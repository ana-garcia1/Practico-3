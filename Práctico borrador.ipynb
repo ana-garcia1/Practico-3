{
 "cells": [
  {
   "cell_type": "markdown",
   "metadata": {},
   "source": [
    "# Exoplanetas"
   ]
  },
  {
   "cell_type": "markdown",
   "metadata": {},
   "source": [
    "Vamos a obtener una lista de exoplanetas con las siguientes propiedades:\n",
    "\n",
    "-Masa\n",
    "\n",
    "-Período orbital\n",
    "\n",
    "-Tipo de estrella del sistema\n",
    "\n",
    "\n",
    "Para esto haremos uso de la base de datos exoplanet.eu"
   ]
  },
  {
   "cell_type": "code",
   "execution_count": 1,
   "metadata": {},
   "outputs": [],
   "source": [
    "import pyvo"
   ]
  },
  {
   "cell_type": "code",
   "execution_count": 2,
   "metadata": {},
   "outputs": [],
   "source": [
    "#seleccionamos el servicio que queremos usar\n",
    "service = pyvo.dal.TAPService(\"http://voparis-tap-planeto.obspm.fr/tap\")"
   ]
  },
  {
   "cell_type": "markdown",
   "metadata": {},
   "source": [
    "La base de datos (o tabla?) principal es exoplanet.epn_core. Hacemos un query de este servicio seleccionando esa tabla."
   ]
  },
  {
   "cell_type": "code",
   "execution_count": 3,
   "metadata": {},
   "outputs": [],
   "source": [
    "#veamos primero la masa\n",
    "query=\"SELECT mass FROM exoplanet.epn_core\"\n",
    "\n",
    "#guardamos el resultado en una tabla llamada masa\n",
    "masa = service.search(query) \n"
   ]
  },
  {
   "cell_type": "code",
   "execution_count": 4,
   "metadata": {},
   "outputs": [
    {
     "data": {
      "text/plain": [
       "4315"
      ]
     },
     "execution_count": 4,
     "metadata": {},
     "output_type": "execute_result"
    }
   ],
   "source": [
    "#veamos cuantos exoplanetas contiene la tabla\n",
    "len(masa)"
   ]
  },
  {
   "cell_type": "code",
   "execution_count": 5,
   "metadata": {},
   "outputs": [
    {
     "data": {
      "text/plain": [
       "<Table length=4315>\n",
       "     mass    \n",
       "'jupiterMass'\n",
       "   float64   \n",
       "-------------\n",
       "           --\n",
       "         21.0\n",
       "           --\n",
       "           --\n",
       "           --\n",
       "           --\n",
       "           --\n",
       "           --\n",
       "           --\n",
       "          ...\n",
       "           --\n",
       "           --\n",
       "           --\n",
       "           --\n",
       "           --\n",
       "         0.62\n",
       "          9.1\n",
       "        23.58\n",
       "           --\n",
       "         40.0"
      ]
     },
     "execution_count": 5,
     "metadata": {},
     "output_type": "execute_result"
    }
   ],
   "source": [
    "masa"
   ]
  },
  {
   "cell_type": "code",
   "execution_count": 6,
   "metadata": {},
   "outputs": [],
   "source": [
    "#guardamos los datos como una votable (VO table)\n",
    "#primero accedemos a la VO table en nuestro array de resultados\n",
    "vot=masa.votable"
   ]
  },
  {
   "cell_type": "code",
   "execution_count": 7,
   "metadata": {},
   "outputs": [],
   "source": [
    "#para guardar la VO table en resultados1.xml\n",
    "vot.to_xml(\"resultados1.xml\")"
   ]
  },
  {
   "cell_type": "code",
   "execution_count": 8,
   "metadata": {},
   "outputs": [
    {
     "ename": "NameError",
     "evalue": "name 'votable' is not defined",
     "output_type": "error",
     "traceback": [
      "\u001b[1;31m---------------------------------------------------------------------------\u001b[0m",
      "\u001b[1;31mNameError\u001b[0m                                 Traceback (most recent call last)",
      "\u001b[1;32m<ipython-input-8-1373580e6673>\u001b[0m in \u001b[0;36m<module>\u001b[1;34m\u001b[0m\n\u001b[0;32m      4\u001b[0m \u001b[0mvot\u001b[0m \u001b[1;33m=\u001b[0m \u001b[0mparse\u001b[0m\u001b[1;33m(\u001b[0m\u001b[1;34m\"resultados1.xml\"\u001b[0m\u001b[1;33m)\u001b[0m\u001b[1;33m\u001b[0m\u001b[1;33m\u001b[0m\u001b[0m\n\u001b[0;32m      5\u001b[0m \u001b[1;31m#seleccionamos la tabla\u001b[0m\u001b[1;33m\u001b[0m\u001b[1;33m\u001b[0m\u001b[1;33m\u001b[0m\u001b[0m\n\u001b[1;32m----> 6\u001b[1;33m \u001b[0mmasa\u001b[0m \u001b[1;33m=\u001b[0m \u001b[0mvotable\u001b[0m\u001b[1;33m.\u001b[0m\u001b[0mget_first_table\u001b[0m\u001b[1;33m(\u001b[0m\u001b[1;33m)\u001b[0m\u001b[1;33m\u001b[0m\u001b[1;33m\u001b[0m\u001b[0m\n\u001b[0m",
      "\u001b[1;31mNameError\u001b[0m: name 'votable' is not defined"
     ]
    }
   ],
   "source": [
    "#para acceder a los datos desde el archivo gurdado:\n",
    "#necesitamos el paquete parse\n",
    "from astropy.io.votable import parse\n",
    "vot = parse(\"resultados1.xml\")\n",
    "#seleccionamos la tabla\n",
    "masa = votable.get_first_table()\n"
   ]
  },
  {
   "cell_type": "code",
   "execution_count": 9,
   "metadata": {},
   "outputs": [],
   "source": [
    "#veamos de nuevo pero cuando la masa si tiene valor\n",
    "query=\"SELECT mass FROM exoplanet.epn_core WHERE mass IS NOT NULL\"\n",
    "masa2 = service.search(query) "
   ]
  },
  {
   "cell_type": "code",
   "execution_count": 10,
   "metadata": {},
   "outputs": [
    {
     "data": {
      "text/plain": [
       "<Table length=1255>\n",
       "     mass    \n",
       "'jupiterMass'\n",
       "   float64   \n",
       "-------------\n",
       "         21.0\n",
       "         14.0\n",
       "         32.0\n",
       "         13.0\n",
       "         20.0\n",
       "         13.9\n",
       "          7.5\n",
       "          1.9\n",
       "         20.0\n",
       "          ...\n",
       "        63.88\n",
       "        11.09\n",
       "         13.0\n",
       "        13.01\n",
       "      0.01517\n",
       "         5.84\n",
       "         0.62\n",
       "          9.1\n",
       "        23.58\n",
       "         40.0"
      ]
     },
     "execution_count": 10,
     "metadata": {},
     "output_type": "execute_result"
    }
   ],
   "source": [
    "masa2"
   ]
  },
  {
   "cell_type": "code",
   "execution_count": 11,
   "metadata": {},
   "outputs": [
    {
     "data": {
      "text/plain": [
       "30.0"
      ]
     },
     "execution_count": 11,
     "metadata": {},
     "output_type": "execute_result"
    }
   ],
   "source": [
    "masa2.getvalue(name='mass', index=9)"
   ]
  },
  {
   "cell_type": "markdown",
   "metadata": {},
   "source": []
  },
  {
   "cell_type": "code",
   "execution_count": 12,
   "metadata": {},
   "outputs": [
    {
     "data": {
      "text/plain": [
       "<Table length=4315>\n",
       " period \n",
       "   d    \n",
       "float64 \n",
       "--------\n",
       "  326.03\n",
       "730000.0\n",
       "  516.22\n",
       "  185.84\n",
       "  1773.4\n",
       "   799.5\n",
       "  578.38\n",
       "   993.3\n",
       "      --\n",
       "     ...\n",
       "  162.87\n",
       "  636.13\n",
       "    20.0\n",
       "   49.41\n",
       "   305.5\n",
       " 4.61711\n",
       " 240.937\n",
       "1281.439\n",
       " 3848.86\n",
       "      --"
      ]
     },
     "execution_count": 12,
     "metadata": {},
     "output_type": "execute_result"
    }
   ],
   "source": [
    "query = \"SELECT period FROM exoplanet.epn_core\"\n",
    "periodo = service.search(query)\n",
    "periodo"
   ]
  },
  {
   "cell_type": "code",
   "execution_count": 13,
   "metadata": {},
   "outputs": [
    {
     "data": {
      "text/plain": [
       "<Table length=4102>\n",
       " period \n",
       "   d    \n",
       "float64 \n",
       "--------\n",
       "  326.03\n",
       "730000.0\n",
       "  516.22\n",
       "  185.84\n",
       "  1773.4\n",
       "   799.5\n",
       "  578.38\n",
       "   993.3\n",
       "  3725.0\n",
       "     ...\n",
       " 3.31249\n",
       "  162.87\n",
       "  636.13\n",
       "    20.0\n",
       "   49.41\n",
       "   305.5\n",
       " 4.61711\n",
       " 240.937\n",
       "1281.439\n",
       " 3848.86"
      ]
     },
     "execution_count": 13,
     "metadata": {},
     "output_type": "execute_result"
    }
   ],
   "source": [
    "query = \"SELECT period FROM exoplanet.epn_core WHERE period IS NOT NULL\"\n",
    "periodo2 = service.search(query)\n",
    "periodo2"
   ]
  },
  {
   "cell_type": "markdown",
   "metadata": {},
   "source": [
    "Vemos que el total de exoplanetas es 4310 de los cuales 1255 tienen datos sobre su masa y 4097 tienen datos sobre su periodo."
   ]
  },
  {
   "cell_type": "code",
   "execution_count": 14,
   "metadata": {},
   "outputs": [
    {
     "data": {
      "text/plain": [
       "<Table length=4315>\n",
       "star_spec_type\n",
       "    object    \n",
       "--------------\n",
       "        G8 III\n",
       "            M9\n",
       "         K4III\n",
       "         K0III\n",
       "          K0 V\n",
       "        G2.5 V\n",
       "        K3 III\n",
       "         G6III\n",
       "              \n",
       "           K7V\n",
       "           ...\n",
       "        G8.5 V\n",
       "        G8.5 V\n",
       "        G8.5 V\n",
       "        G8.5 V\n",
       "         K2III\n",
       "          F8 V\n",
       "          F8 V\n",
       "          F8 V\n",
       "          F8 V\n",
       "           A3V"
      ]
     },
     "execution_count": 14,
     "metadata": {},
     "output_type": "execute_result"
    }
   ],
   "source": [
    "#veamos lo mismo para el tipo de estrella\n",
    "query = \"SELECT star_spec_type FROM exoplanet.epn_core\"\n",
    "tipo_estrella = service.search(query)\n",
    "tipo_estrella"
   ]
  },
  {
   "cell_type": "code",
   "execution_count": 15,
   "metadata": {},
   "outputs": [
    {
     "data": {
      "text/plain": [
       "<Table length=2147>\n",
       "star_spec_type\n",
       "    object    \n",
       "--------------\n",
       "        G8 III\n",
       "            M9\n",
       "         K4III\n",
       "         K0III\n",
       "          K0 V\n",
       "        G2.5 V\n",
       "        K3 III\n",
       "         G6III\n",
       "              \n",
       "           K7V\n",
       "           ...\n",
       "        G8.5 V\n",
       "        G8.5 V\n",
       "        G8.5 V\n",
       "        G8.5 V\n",
       "         K2III\n",
       "          F8 V\n",
       "          F8 V\n",
       "          F8 V\n",
       "          F8 V\n",
       "           A3V"
      ]
     },
     "execution_count": 15,
     "metadata": {},
     "output_type": "execute_result"
    }
   ],
   "source": [
    "#veamos si todos los exoplanetas tienen datos de su estrella\n",
    "query = \"SELECT star_spec_type FROM exoplanet.epn_core WHERE star_spec_type IS NOT NULL\"\n",
    "tipo_estrella2 = service.search(query)\n",
    "tipo_estrella2"
   ]
  },
  {
   "cell_type": "markdown",
   "metadata": {},
   "source": [
    "Vemos que de los 4310 exoplanetas solo 2142 tienen el dato del tipo espectral de su estrella."
   ]
  },
  {
   "cell_type": "markdown",
   "metadata": {},
   "source": [
    "Hagamos una tabla o lista con las 3 propiedades (campos)."
   ]
  },
  {
   "cell_type": "code",
   "execution_count": 16,
   "metadata": {},
   "outputs": [
    {
     "data": {
      "text/plain": [
       "<Table length=4315>\n",
       "     mass      period  star_spec_type\n",
       "'jupiterMass'    d                   \n",
       "   float64    float64      object    \n",
       "------------- -------- --------------\n",
       "           --   326.03         G8 III\n",
       "         21.0 730000.0             M9\n",
       "           --   516.22          K4III\n",
       "           --   185.84          K0III\n",
       "           --   1773.4           K0 V\n",
       "           --    799.5         G2.5 V\n",
       "           --   578.38         K3 III\n",
       "           --    993.3          G6III\n",
       "           --       --               \n",
       "          ...      ...            ...\n",
       "           --   162.87         G8.5 V\n",
       "           --   636.13         G8.5 V\n",
       "           --     20.0         G8.5 V\n",
       "           --    49.41         G8.5 V\n",
       "           --    305.5          K2III\n",
       "         0.62  4.61711           F8 V\n",
       "          9.1  240.937           F8 V\n",
       "        23.58 1281.439           F8 V\n",
       "           --  3848.86           F8 V\n",
       "         40.0       --            A3V"
      ]
     },
     "execution_count": 16,
     "metadata": {},
     "output_type": "execute_result"
    }
   ],
   "source": [
    "query = \"SELECT mass, period, star_spec_type FROM exoplanet.epn_core\"\n",
    "mi_resultado = service.search(query)\n",
    "mi_resultado"
   ]
  },
  {
   "cell_type": "code",
   "execution_count": 17,
   "metadata": {},
   "outputs": [
    {
     "data": {
      "text/plain": [
       "<Table length=4315>\n",
       "target_name       mass      period  star_name star_spec_type\n",
       "             'jupiterMass'    d                             \n",
       "   object       float64    float64    object      object    \n",
       "------------ ------------- -------- --------- --------------\n",
       "    11 Com b            --   326.03    11 Com         G8 III\n",
       "    11 Oph b          21.0 730000.0    11 Oph             M9\n",
       "    11 UMi b            --   516.22    11 UMi          K4III\n",
       "    14 And b            --   185.84    14 And          K0III\n",
       "    14 Her b            --   1773.4    14 Her           K0 V\n",
       "  16 Cyg B b            --    799.5  16 Cyg B         G2.5 V\n",
       "    17 Sco b            --   578.38    17 Sco         K3 III\n",
       "    18 Del b            --    993.3    18 Del          G6III\n",
       "1I/'Oumuamua            --       --       Sun               \n",
       "         ...           ...      ...       ...            ...\n",
       "   tau Cet e            --   162.87   tau Cet         G8.5 V\n",
       "   tau Cet f            --   636.13   tau Cet         G8.5 V\n",
       "   tau Cet g            --     20.0   tau Cet         G8.5 V\n",
       "   tau Cet h            --    49.41   tau Cet         G8.5 V\n",
       "   tau Gem b            --    305.5   tau Gem          K2III\n",
       "   ups And b          0.62  4.61711   ups And           F8 V\n",
       "   ups And c           9.1  240.937   ups And           F8 V\n",
       "   ups And d         23.58 1281.439   ups And           F8 V\n",
       "   ups And e            --  3848.86   ups And           F8 V\n",
       "   zet Del B          40.0       -- zet Del A            A3V"
      ]
     },
     "execution_count": 17,
     "metadata": {},
     "output_type": "execute_result"
    }
   ],
   "source": [
    "#vamos a incluir el nombre del exoplaneta y el nombre de la estrella\n",
    "query = \"SELECT target_name, mass, period, star_name, star_spec_type FROM exoplanet.epn_core\"\n",
    "mi_resultado = service.search(query)\n",
    "mi_resultado"
   ]
  },
  {
   "cell_type": "code",
   "execution_count": 18,
   "metadata": {},
   "outputs": [],
   "source": [
    "#guardemos en una VO table\n",
    "vot=mi_resultado.votable\n",
    "vot.to_xml(\"mi_resultado.xml\")"
   ]
  },
  {
   "cell_type": "markdown",
   "metadata": {},
   "source": [
    "# Estudio tipo de detección"
   ]
  },
  {
   "cell_type": "code",
   "execution_count": 19,
   "metadata": {},
   "outputs": [
    {
     "data": {
      "text/plain": [
       "<Table length=4315>\n",
       "target_name   detection_type      mass     mass_detection_type\n",
       "                             'jupiterMass'                    \n",
       "   object         object        float64           object      \n",
       "------------ --------------- ------------- -------------------\n",
       "    11 Com b Radial Velocity            --                    \n",
       "    11 Oph b         Imaging          21.0                    \n",
       "    11 UMi b Radial Velocity            --                    \n",
       "    14 And b Radial Velocity            --                    \n",
       "    14 Her b Radial Velocity            --                    \n",
       "  16 Cyg B b Radial Velocity            --                    \n",
       "    17 Sco b Radial Velocity            --     Radial Velocity\n",
       "    18 Del b Radial Velocity            --                    \n",
       "1I/'Oumuamua         Imaging            --                    \n",
       "         ...             ...           ...                 ...\n",
       "   tau Cet e Radial Velocity            --     Radial Velocity\n",
       "   tau Cet f Radial Velocity            --     Radial Velocity\n",
       "   tau Cet g Radial Velocity            --     Radial Velocity\n",
       "   tau Cet h Radial Velocity            --                    \n",
       "   tau Gem b Radial Velocity            --                    \n",
       "   ups And b Radial Velocity          0.62     Radial Velocity\n",
       "   ups And c Radial Velocity           9.1     Radial Velocity\n",
       "   ups And d Radial Velocity         23.58     Radial Velocity\n",
       "   ups And e Radial Velocity            --                    \n",
       "   zet Del B         Imaging          40.0            Spectrum"
      ]
     },
     "execution_count": 19,
     "metadata": {},
     "output_type": "execute_result"
    }
   ],
   "source": [
    "query = \"SELECT target_name, detection_type, mass, mass_detection_type FROM exoplanet.epn_core\"\n",
    "deteccion_masa = service.search(query)\n",
    "deteccion_masa"
   ]
  },
  {
   "cell_type": "code",
   "execution_count": 20,
   "metadata": {},
   "outputs": [
    {
     "data": {
      "text/plain": [
       "<Table length=3060>\n",
       " target_name    detection_type\n",
       "    object          object    \n",
       "-------------- ---------------\n",
       "      11 Com b Radial Velocity\n",
       "      11 UMi b Radial Velocity\n",
       "      14 And b Radial Velocity\n",
       "      14 Her b Radial Velocity\n",
       "    16 Cyg B b Radial Velocity\n",
       "      17 Sco b Radial Velocity\n",
       "      18 Del b Radial Velocity\n",
       "  1I/'Oumuamua         Imaging\n",
       "1SWASP J1407 b Primary Transit\n",
       "      24 Boo b Radial Velocity\n",
       "           ...             ...\n",
       "     ome Ser b Radial Velocity\n",
       "     omi CrB b Radial Velocity\n",
       "   omi UMa A b Radial Velocity\n",
       "     sig Per b Radial Velocity\n",
       "     tau Cet e Radial Velocity\n",
       "     tau Cet f Radial Velocity\n",
       "     tau Cet g Radial Velocity\n",
       "     tau Cet h Radial Velocity\n",
       "     tau Gem b Radial Velocity\n",
       "     ups And e Radial Velocity"
      ]
     },
     "execution_count": 20,
     "metadata": {},
     "output_type": "execute_result"
    }
   ],
   "source": [
    "query = \"SELECT target_name, detection_type FROM exoplanet.epn_core WHERE mass IS NULL\"\n",
    "sin_masa = service.search(query)\n",
    "sin_masa"
   ]
  },
  {
   "cell_type": "markdown",
   "metadata": {},
   "source": [
    "Para los exoplanetas que no tienen datos de la masa vemos que predomina la técnica de detección por velocidad radial (justo en estos casos que se muestran)."
   ]
  },
  {
   "cell_type": "code",
   "execution_count": 21,
   "metadata": {},
   "outputs": [
    {
     "data": {
      "text/plain": [
       "<Table length=1255>\n",
       "      target_name        detection_type      mass     mass_detection_type\n",
       "                                        'jupiterMass'                    \n",
       "         object              object        float64           object      \n",
       "----------------------- --------------- ------------- -------------------\n",
       "               11 Oph b         Imaging          21.0                    \n",
       "            1RXS 1609 b         Imaging          14.0                    \n",
       "1RXS J235133.3+312720 b         Imaging          32.0                    \n",
       "      2M 0103-55 (AB) b         Imaging          13.0                    \n",
       "           2M 0122-24 b         Imaging          20.0                    \n",
       "           2M 0219-39 b         Imaging          13.9            Spectrum\n",
       "           2M 0441+23 b         Imaging           7.5                    \n",
       "           2M 1938+46 b          Pulsar           1.9                 TTV\n",
       "           2M 2140+16 b         Imaging          20.0                    \n",
       "                    ...             ...           ...                 ...\n",
       "          gamma 1 Leo b Radial Velocity         63.88                    \n",
       "         gamma Cephei b Radial Velocity         11.09                    \n",
       "            kappa And b         Imaging          13.0            Spectrum\n",
       "               pi Men b Radial Velocity         13.01     Radial Velocity\n",
       "               pi Men c Primary Transit       0.01517     Radial Velocity\n",
       "            tau Boo A b Radial Velocity          5.84                    \n",
       "              ups And b Radial Velocity          0.62     Radial Velocity\n",
       "              ups And c Radial Velocity           9.1     Radial Velocity\n",
       "              ups And d Radial Velocity         23.58     Radial Velocity\n",
       "              zet Del B         Imaging          40.0            Spectrum"
      ]
     },
     "execution_count": 21,
     "metadata": {},
     "output_type": "execute_result"
    }
   ],
   "source": [
    "query = \"SELECT target_name, detection_type, mass, mass_detection_type FROM exoplanet.epn_core WHERE mass IS NOT NULL\"\n",
    "deteccion_masa2 = service.search(query)\n",
    "deteccion_masa2"
   ]
  },
  {
   "cell_type": "code",
   "execution_count": 22,
   "metadata": {},
   "outputs": [
    {
     "data": {
      "text/plain": [
       "<Table length=9>\n",
       "   detection_type  \n",
       "       object      \n",
       "-------------------\n",
       "         Astrometry\n",
       "            Imaging\n",
       "       Microlensing\n",
       "              Other\n",
       "    Primary Transit\n",
       "Primary Transit#TTV\n",
       "             Pulsar\n",
       "    Radial Velocity\n",
       "                TTV"
      ]
     },
     "execution_count": 22,
     "metadata": {},
     "output_type": "execute_result"
    }
   ],
   "source": [
    "query=\"SELECT detection_type FROM exoplanet.epn_core GROUP BY detection_type\"\n",
    "grupos_detect = service.search(query)\n",
    "grupos_detect"
   ]
  },
  {
   "cell_type": "markdown",
   "metadata": {},
   "source": [
    "Vemos que hay 9 tipos de técnicas o tipos de detección. A continuación vemos que son 8 para la detección de masa:"
   ]
  },
  {
   "cell_type": "code",
   "execution_count": 23,
   "metadata": {},
   "outputs": [
    {
     "data": {
      "text/plain": [
       "<Table length=8>\n",
       "mass_detection_type\n",
       "       object      \n",
       "-------------------\n",
       "         Astrometry\n",
       "       Microlensing\n",
       "             Pulsar\n",
       "    Radial Velocity\n",
       "           Spectrum\n",
       "        Theoretical\n",
       "                TTV\n",
       "                   "
      ]
     },
     "execution_count": 23,
     "metadata": {},
     "output_type": "execute_result"
    }
   ],
   "source": [
    "query=\"SELECT mass_detection_type FROM exoplanet.epn_core GROUP BY mass_detection_type\"\n",
    "grupos_masa_detect = service.search(query)\n",
    "grupos_masa_detect"
   ]
  },
  {
   "cell_type": "code",
   "execution_count": 24,
   "metadata": {},
   "outputs": [
    {
     "data": {
      "text/plain": [
       "<Table length=9>\n",
       "   detection_type   cantidad\n",
       "       object        int32  \n",
       "------------------- --------\n",
       "    Primary Transit     3098\n",
       "    Radial Velocity      907\n",
       "       Microlensing      122\n",
       "            Imaging      112\n",
       "             Pulsar       44\n",
       "                TTV       18\n",
       "              Other        9\n",
       "         Astrometry        3\n",
       "Primary Transit#TTV        2"
      ]
     },
     "execution_count": 24,
     "metadata": {},
     "output_type": "execute_result"
    }
   ],
   "source": [
    "query = \"SELECT detection_type, COUNT(detection_type) AS cantidad FROM exoplanet.epn_core GROUP BY detection_type ORDER BY cantidad DESC\"\n",
    "cant_por_tipo = service.search(query)\n",
    "cant_por_tipo"
   ]
  },
  {
   "cell_type": "code",
   "execution_count": 25,
   "metadata": {},
   "outputs": [
    {
     "data": {
      "text/plain": [
       "<Table length=9>\n",
       "   detection_type   cantidad\n",
       "       object        int32  \n",
       "------------------- --------\n",
       "    Primary Transit      888\n",
       "       Microlensing      120\n",
       "            Imaging      110\n",
       "    Radial Velocity       81\n",
       "             Pulsar       29\n",
       "                TTV       17\n",
       "              Other        5\n",
       "         Astrometry        3\n",
       "Primary Transit#TTV        2"
      ]
     },
     "execution_count": 25,
     "metadata": {},
     "output_type": "execute_result"
    }
   ],
   "source": [
    "#veamos cuando la masa no es nula, es decir cuando el exoplaneta si tiene datos\n",
    "query = \"SELECT detection_type, COUNT(detection_type) AS cantidad FROM exoplanet.epn_core WHERE mass IS NOT NULL GROUP BY detection_type ORDER BY cantidad DESC\"\n",
    "cant_por_tipo2 = service.search(query)\n",
    "cant_por_tipo2"
   ]
  },
  {
   "cell_type": "markdown",
   "metadata": {},
   "source": [
    "Vemos que el orden cambió. Por ejemplo: hay 902 exoplanetas detectados por velocidad radial pero sólo 81 de ellos tienen datos sobre la masa."
   ]
  },
  {
   "cell_type": "code",
   "execution_count": 26,
   "metadata": {},
   "outputs": [
    {
     "data": {
      "text/plain": [
       "<Table length=8>\n",
       "mass_detection_type cantidad\n",
       "       object        int32  \n",
       "------------------- --------\n",
       "    Radial Velocity      809\n",
       "           Spectrum      149\n",
       "       Microlensing       75\n",
       "                TTV       62\n",
       "        Theoretical       57\n",
       "         Astrometry        8\n",
       "             Pulsar        8\n",
       "                           0"
      ]
     },
     "execution_count": 26,
     "metadata": {},
     "output_type": "execute_result"
    }
   ],
   "source": [
    "query = \"SELECT mass_detection_type, COUNT(mass_detection_type) AS cantidad FROM exoplanet.epn_core GROUP BY mass_detection_type ORDER BY cantidad DESC\"\n",
    "cant_por_tipo_detect_masa = service.search(query)\n",
    "cant_por_tipo_detect_masa"
   ]
  },
  {
   "cell_type": "code",
   "execution_count": 27,
   "metadata": {},
   "outputs": [
    {
     "data": {
      "text/plain": [
       "<Table length=8>\n",
       "mass_detection_type cantidad\n",
       "       object        int32  \n",
       "------------------- --------\n",
       "    Radial Velocity      423\n",
       "           Spectrum      112\n",
       "       Microlensing       75\n",
       "                TTV       57\n",
       "        Theoretical       56\n",
       "         Astrometry        8\n",
       "             Pulsar        3\n",
       "                           0"
      ]
     },
     "execution_count": 27,
     "metadata": {},
     "output_type": "execute_result"
    }
   ],
   "source": [
    "#veamos si todos tienen datos de la masa\n",
    "query = \"SELECT mass_detection_type, COUNT(mass_detection_type) AS cantidad FROM exoplanet.epn_core WHERE mass IS NOT NULL GROUP BY mass_detection_type ORDER BY cantidad DESC\"\n",
    "cant_por_tipo_detect_masa2 = service.search(query)\n",
    "cant_por_tipo_detect_masa2"
   ]
  },
  {
   "cell_type": "markdown",
   "metadata": {},
   "source": [
    "Vemos que si hay menos cantidad de exoplanetas que tienen datos de la masa a pesar de que figura el tipo de técnica de detección de masa.\n",
    "\n",
    "Encuentro una contradicción aquí porque obtengo 423 exoplanetas con datos de su masa detectada por velocidad radial y antes había encontrado que eran 81 planetas con datos de masa cuando al exoplaneta se lo detectaba por velocidad radial."
   ]
  },
  {
   "cell_type": "markdown",
   "metadata": {},
   "source": [
    "Veamos qué pasa con el período orbital."
   ]
  },
  {
   "cell_type": "code",
   "execution_count": 28,
   "metadata": {},
   "outputs": [
    {
     "data": {
      "text/plain": [
       "<Table length=9>\n",
       "   detection_type   cantidad\n",
       "       object        int32  \n",
       "------------------- --------\n",
       "    Primary Transit     3093\n",
       "    Radial Velocity      906\n",
       "             Pulsar       42\n",
       "            Imaging       24\n",
       "                TTV       18\n",
       "       Microlensing        8\n",
       "              Other        6\n",
       "         Astrometry        3\n",
       "Primary Transit#TTV        2"
      ]
     },
     "execution_count": 28,
     "metadata": {},
     "output_type": "execute_result"
    }
   ],
   "source": [
    "query = \"SELECT detection_type, COUNT(detection_type) AS cantidad FROM exoplanet.epn_core WHERE period IS NOT NULL GROUP BY detection_type ORDER BY cantidad DESC\"\n",
    "detect_con_periodo = service.search(query)\n",
    "detect_con_periodo"
   ]
  },
  {
   "cell_type": "markdown",
   "metadata": {},
   "source": [
    "# Estudio distribución distancias "
   ]
  },
  {
   "cell_type": "code",
   "execution_count": 29,
   "metadata": {},
   "outputs": [
    {
     "data": {
      "text/plain": [
       "<Table length=4315>\n",
       "star_name star_distance\n",
       "                pc     \n",
       "  object     float64   \n",
       "--------- -------------\n",
       "   11 Com         110.6\n",
       "   11 Oph         145.0\n",
       "   11 UMi         119.5\n",
       "   14 And          76.4\n",
       "   14 Her          18.1\n",
       " 16 Cyg B         21.41\n",
       "   17 Sco         116.0\n",
       "   18 Del          73.1\n",
       "      Sun            --\n",
       "      ...           ...\n",
       "  tau Cet          3.65\n",
       "  tau Cet          3.65\n",
       "  tau Cet          3.65\n",
       "  tau Cet          3.65\n",
       "  tau Gem          98.4\n",
       "  ups And         13.47\n",
       "  ups And         13.47\n",
       "  ups And         13.47\n",
       "  ups And         13.47\n",
       "zet Del A         67.48"
      ]
     },
     "execution_count": 29,
     "metadata": {},
     "output_type": "execute_result"
    }
   ],
   "source": [
    "query = \"SELECT star_name, star_distance FROM exoplanet.epn_core\"\n",
    "distancia = service.search(query)\n",
    "distancia"
   ]
  },
  {
   "cell_type": "code",
   "execution_count": 30,
   "metadata": {},
   "outputs": [
    {
     "data": {
      "text/plain": [
       "<Table length=3118>\n",
       "     star_name      star_distance\n",
       "                          pc     \n",
       "       object          float64   \n",
       "------------------- -------------\n",
       "   Proxima Centauri         1.295\n",
       "   Proxima Centauri         1.295\n",
       "     Barnard's star           1.8\n",
       "           Wolf 359          2.42\n",
       "           Wolf 359          2.42\n",
       "      Lalande 21185          2.55\n",
       "        eps Eridani           3.2\n",
       "             GJ 887        3.2871\n",
       "             GJ 887        3.2871\n",
       "                ...           ...\n",
       "  MOA-2011-BLG-262L        7350.0\n",
       " MOA-2011-BLGL-028L        7380.0\n",
       "OGLE-2018-BLG-1700L        7600.0\n",
       "  MOA-2011-BLG-293L        7700.0\n",
       "OGLE-2018-BLG-0677L        7700.0\n",
       "   MOA-2011-BLG-322        7740.0\n",
       "OGLE-2015-BLG-0051L        8200.0\n",
       "          SWEEPS-04        8500.0\n",
       "          SWEEPS-11        8500.0\n",
       "      XTE J1751-305       11000.0"
      ]
     },
     "execution_count": 30,
     "metadata": {},
     "output_type": "execute_result"
    }
   ],
   "source": [
    "#veamos solo los que sí tienen el dato de la distancia\n",
    "query = \"SELECT star_name, star_distance FROM exoplanet.epn_core WHERE star_distance IS NOT NULL ORDER BY star_distance ASC\"\n",
    "distancia2 = service.search(query)\n",
    "distancia2"
   ]
  },
  {
   "cell_type": "code",
   "execution_count": 31,
   "metadata": {},
   "outputs": [
    {
     "data": {
      "text/plain": [
       "masked_array(data=[1.295, 1.295, 1.8, ..., 8500.0, 8500.0, 11000.0],\n",
       "             mask=[False, False, False, ..., False, False, False],\n",
       "       fill_value=1e+20)"
      ]
     },
     "execution_count": 31,
     "metadata": {},
     "output_type": "execute_result"
    }
   ],
   "source": [
    "distancia2['star_distance']      #despues voy a hacer un grafico para ver si es gaussiana con los datos de la columna distancia"
   ]
  },
  {
   "cell_type": "markdown",
   "metadata": {},
   "source": [
    "Vemos que  hay 3113 resultados. Agrupemos los exoplanetas por sistema (estrella)."
   ]
  },
  {
   "cell_type": "code",
   "execution_count": 32,
   "metadata": {},
   "outputs": [
    {
     "data": {
      "text/plain": [
       "<Table length=2629>\n",
       "  star_name  \n",
       "    object   \n",
       "-------------\n",
       "       11 Com\n",
       "       11 Oph\n",
       "       11 UMi\n",
       "       14 And\n",
       "       14 Her\n",
       "     16 Cyg B\n",
       "       17 Sco\n",
       "       18 Del\n",
       "    1RXS 1609\n",
       " 1SWASP J1407\n",
       "          ...\n",
       "         XO-3\n",
       "         XO-4\n",
       "         XO-5\n",
       "         XO-6\n",
       "         XO-7\n",
       "XTE J1751-305\n",
       "XTE J1807-294\n",
       "       YBP401\n",
       "       YZ Cet\n",
       "    zet Del A"
      ]
     },
     "execution_count": 32,
     "metadata": {},
     "output_type": "execute_result"
    }
   ],
   "source": [
    "query = \"SELECT star_name FROM exoplanet.epn_core WHERE star_distance IS NOT NULL GROUP BY star_name\"\n",
    "distancia3 = service.search(query)\n",
    "distancia3"
   ]
  },
  {
   "cell_type": "code",
   "execution_count": 33,
   "metadata": {},
   "outputs": [
    {
     "ename": "DALQueryError",
     "evalue": "Field query: column \"epn_core.star_distance\" must appear in the GROUP BY clause or be used in an aggregate function\nLINE 1: ...e8cbd0\" CURSOR WITHOUT HOLD FOR SELECT star_name, star_dista...\n                                                             ^",
     "output_type": "error",
     "traceback": [
      "\u001b[1;31m---------------------------------------------------------------------------\u001b[0m",
      "\u001b[1;31mDALQueryError\u001b[0m                             Traceback (most recent call last)",
      "\u001b[1;32m<ipython-input-33-19420eba33af>\u001b[0m in \u001b[0;36m<module>\u001b[1;34m\u001b[0m\n\u001b[0;32m      1\u001b[0m \u001b[0mquery\u001b[0m \u001b[1;33m=\u001b[0m \u001b[1;34m\"SELECT star_name, star_distance FROM exoplanet.epn_core WHERE star_distance IS NOT NULL GROUP BY star_name ORDER BY star_distance ASC\"\u001b[0m\u001b[1;33m\u001b[0m\u001b[1;33m\u001b[0m\u001b[0m\n\u001b[1;32m----> 2\u001b[1;33m \u001b[0mdistancia3\u001b[0m \u001b[1;33m=\u001b[0m \u001b[0mservice\u001b[0m\u001b[1;33m.\u001b[0m\u001b[0msearch\u001b[0m\u001b[1;33m(\u001b[0m\u001b[0mquery\u001b[0m\u001b[1;33m)\u001b[0m\u001b[1;33m\u001b[0m\u001b[1;33m\u001b[0m\u001b[0m\n\u001b[0m\u001b[0;32m      3\u001b[0m \u001b[0mdistancia3\u001b[0m\u001b[1;33m\u001b[0m\u001b[1;33m\u001b[0m\u001b[0m\n",
      "\u001b[1;32m~\\anaconda3\\lib\\site-packages\\pyvo\\dal\\tap.py\u001b[0m in \u001b[0;36mrun_sync\u001b[1;34m(self, query, language, maxrec, uploads, **keywords)\u001b[0m\n\u001b[0;32m    244\u001b[0m         \u001b[0mTAPResults\u001b[0m\u001b[1;33m\u001b[0m\u001b[1;33m\u001b[0m\u001b[0m\n\u001b[0;32m    245\u001b[0m         \"\"\"\n\u001b[1;32m--> 246\u001b[1;33m         return self.create_query(\n\u001b[0m\u001b[0;32m    247\u001b[0m             \u001b[0mquery\u001b[0m\u001b[1;33m,\u001b[0m \u001b[0mlanguage\u001b[0m\u001b[1;33m=\u001b[0m\u001b[0mlanguage\u001b[0m\u001b[1;33m,\u001b[0m \u001b[0mmaxrec\u001b[0m\u001b[1;33m=\u001b[0m\u001b[0mmaxrec\u001b[0m\u001b[1;33m,\u001b[0m \u001b[0muploads\u001b[0m\u001b[1;33m=\u001b[0m\u001b[0muploads\u001b[0m\u001b[1;33m,\u001b[0m\u001b[1;33m\u001b[0m\u001b[1;33m\u001b[0m\u001b[0m\n\u001b[0;32m    248\u001b[0m             **keywords).execute()\n",
      "\u001b[1;32m~\\anaconda3\\lib\\site-packages\\pyvo\\dal\\tap.py\u001b[0m in \u001b[0;36mexecute\u001b[1;34m(self)\u001b[0m\n\u001b[0;32m    940\u001b[0m            \u001b[1;32mfor\u001b[0m \u001b[0merrors\u001b[0m \u001b[0mparsing\u001b[0m \u001b[0mthe\u001b[0m \u001b[0mVOTable\u001b[0m \u001b[0mresponse\u001b[0m\u001b[1;33m\u001b[0m\u001b[1;33m\u001b[0m\u001b[0m\n\u001b[0;32m    941\u001b[0m         \"\"\"\n\u001b[1;32m--> 942\u001b[1;33m         \u001b[1;32mreturn\u001b[0m \u001b[0mTAPResults\u001b[0m\u001b[1;33m(\u001b[0m\u001b[0mself\u001b[0m\u001b[1;33m.\u001b[0m\u001b[0mexecute_votable\u001b[0m\u001b[1;33m(\u001b[0m\u001b[1;33m)\u001b[0m\u001b[1;33m,\u001b[0m \u001b[0murl\u001b[0m\u001b[1;33m=\u001b[0m\u001b[0mself\u001b[0m\u001b[1;33m.\u001b[0m\u001b[0mqueryurl\u001b[0m\u001b[1;33m,\u001b[0m \u001b[0msession\u001b[0m\u001b[1;33m=\u001b[0m\u001b[0mself\u001b[0m\u001b[1;33m.\u001b[0m\u001b[0m_session\u001b[0m\u001b[1;33m)\u001b[0m\u001b[1;33m\u001b[0m\u001b[1;33m\u001b[0m\u001b[0m\n\u001b[0m\u001b[0;32m    943\u001b[0m \u001b[1;33m\u001b[0m\u001b[0m\n\u001b[0;32m    944\u001b[0m     \u001b[1;32mdef\u001b[0m \u001b[0msubmit\u001b[0m\u001b[1;33m(\u001b[0m\u001b[0mself\u001b[0m\u001b[1;33m,\u001b[0m \u001b[0mpost\u001b[0m\u001b[1;33m=\u001b[0m\u001b[1;32mFalse\u001b[0m\u001b[1;33m)\u001b[0m\u001b[1;33m:\u001b[0m\u001b[1;33m\u001b[0m\u001b[1;33m\u001b[0m\u001b[0m\n",
      "\u001b[1;32m~\\anaconda3\\lib\\site-packages\\pyvo\\dal\\adhoc.py\u001b[0m in \u001b[0;36m__init__\u001b[1;34m(self, votable, url, session)\u001b[0m\n\u001b[0;32m    108\u001b[0m     \"\"\"\n\u001b[0;32m    109\u001b[0m     \u001b[1;32mdef\u001b[0m \u001b[0m__init__\u001b[0m\u001b[1;33m(\u001b[0m\u001b[0mself\u001b[0m\u001b[1;33m,\u001b[0m \u001b[0mvotable\u001b[0m\u001b[1;33m,\u001b[0m \u001b[0murl\u001b[0m\u001b[1;33m=\u001b[0m\u001b[1;32mNone\u001b[0m\u001b[1;33m,\u001b[0m \u001b[0msession\u001b[0m\u001b[1;33m=\u001b[0m\u001b[1;32mNone\u001b[0m\u001b[1;33m)\u001b[0m\u001b[1;33m:\u001b[0m\u001b[1;33m\u001b[0m\u001b[1;33m\u001b[0m\u001b[0m\n\u001b[1;32m--> 110\u001b[1;33m         \u001b[0msuper\u001b[0m\u001b[1;33m(\u001b[0m\u001b[1;33m)\u001b[0m\u001b[1;33m.\u001b[0m\u001b[0m__init__\u001b[0m\u001b[1;33m(\u001b[0m\u001b[0mvotable\u001b[0m\u001b[1;33m,\u001b[0m \u001b[0murl\u001b[0m\u001b[1;33m=\u001b[0m\u001b[0murl\u001b[0m\u001b[1;33m,\u001b[0m \u001b[0msession\u001b[0m\u001b[1;33m=\u001b[0m\u001b[0msession\u001b[0m\u001b[1;33m)\u001b[0m\u001b[1;33m\u001b[0m\u001b[1;33m\u001b[0m\u001b[0m\n\u001b[0m\u001b[0;32m    111\u001b[0m \u001b[1;33m\u001b[0m\u001b[0m\n\u001b[0;32m    112\u001b[0m         self._adhocservices = list(\n",
      "\u001b[1;32m~\\anaconda3\\lib\\site-packages\\pyvo\\dal\\query.py\u001b[0m in \u001b[0;36m__init__\u001b[1;34m(self, votable, url, session)\u001b[0m\n\u001b[0;32m    318\u001b[0m         \u001b[0mself\u001b[0m\u001b[1;33m.\u001b[0m\u001b[0m_status\u001b[0m \u001b[1;33m=\u001b[0m \u001b[0mself\u001b[0m\u001b[1;33m.\u001b[0m\u001b[0m_findstatus\u001b[0m\u001b[1;33m(\u001b[0m\u001b[0mvotable\u001b[0m\u001b[1;33m)\u001b[0m\u001b[1;33m\u001b[0m\u001b[1;33m\u001b[0m\u001b[0m\n\u001b[0;32m    319\u001b[0m         \u001b[1;32mif\u001b[0m \u001b[0mself\u001b[0m\u001b[1;33m.\u001b[0m\u001b[0m_status\u001b[0m\u001b[1;33m[\u001b[0m\u001b[1;36m0\u001b[0m\u001b[1;33m]\u001b[0m\u001b[1;33m.\u001b[0m\u001b[0mlower\u001b[0m\u001b[1;33m(\u001b[0m\u001b[1;33m)\u001b[0m \u001b[1;32mnot\u001b[0m \u001b[1;32min\u001b[0m \u001b[1;33m(\u001b[0m\u001b[1;34m\"ok\"\u001b[0m\u001b[1;33m,\u001b[0m \u001b[1;34m\"overflow\"\u001b[0m\u001b[1;33m)\u001b[0m\u001b[1;33m:\u001b[0m\u001b[1;33m\u001b[0m\u001b[1;33m\u001b[0m\u001b[0m\n\u001b[1;32m--> 320\u001b[1;33m             \u001b[1;32mraise\u001b[0m \u001b[0mDALQueryError\u001b[0m\u001b[1;33m(\u001b[0m\u001b[0mself\u001b[0m\u001b[1;33m.\u001b[0m\u001b[0m_status\u001b[0m\u001b[1;33m[\u001b[0m\u001b[1;36m1\u001b[0m\u001b[1;33m]\u001b[0m\u001b[1;33m,\u001b[0m \u001b[0mself\u001b[0m\u001b[1;33m.\u001b[0m\u001b[0m_status\u001b[0m\u001b[1;33m[\u001b[0m\u001b[1;36m0\u001b[0m\u001b[1;33m]\u001b[0m\u001b[1;33m,\u001b[0m \u001b[0murl\u001b[0m\u001b[1;33m)\u001b[0m\u001b[1;33m\u001b[0m\u001b[1;33m\u001b[0m\u001b[0m\n\u001b[0m\u001b[0;32m    321\u001b[0m \u001b[1;33m\u001b[0m\u001b[0m\n\u001b[0;32m    322\u001b[0m         \u001b[0mself\u001b[0m\u001b[1;33m.\u001b[0m\u001b[0m_resultstable\u001b[0m \u001b[1;33m=\u001b[0m \u001b[0mself\u001b[0m\u001b[1;33m.\u001b[0m\u001b[0m_findresultstable\u001b[0m\u001b[1;33m(\u001b[0m\u001b[0mvotable\u001b[0m\u001b[1;33m)\u001b[0m\u001b[1;33m\u001b[0m\u001b[1;33m\u001b[0m\u001b[0m\n",
      "\u001b[1;31mDALQueryError\u001b[0m: Field query: column \"epn_core.star_distance\" must appear in the GROUP BY clause or be used in an aggregate function\nLINE 1: ...e8cbd0\" CURSOR WITHOUT HOLD FOR SELECT star_name, star_dista...\n                                                             ^"
     ]
    }
   ],
   "source": [
    "query = \"SELECT star_name, star_distance FROM exoplanet.epn_core WHERE star_distance IS NOT NULL GROUP BY star_name ORDER BY star_distance ASC\"\n",
    "distancia3 = service.search(query)\n",
    "distancia3"
   ]
  },
  {
   "cell_type": "code",
   "execution_count": null,
   "metadata": {},
   "outputs": [],
   "source": [
    "#trabajemos con el resultado distancia2\n",
    "\n",
    "#quiero separar los sistemas, es decir sacar los nombres repetidos. pero quedarme con el dato de su distancia tambien\n",
    "\n",
    "\n",
    "i=0\n",
    "distancias = []\n",
    "\n",
    "for i in range(len(distancia2)):\n",
    "    distancias.append(distancia2.getvalue(name = 'star_distance', index = i))\n",
    "    \n",
    "#distancias"
   ]
  },
  {
   "cell_type": "code",
   "execution_count": 35,
   "metadata": {},
   "outputs": [],
   "source": [
    "import matplotlib.pyplot as plt"
   ]
  },
  {
   "cell_type": "code",
   "execution_count": 36,
   "metadata": {},
   "outputs": [
    {
     "data": {
      "image/png": "[encoded data removed]",
      "text/plain": [
       "<Figure size 432x288 with 1 Axes>"
      ]
     },
     "metadata": {
      "needs_background": "light"
     },
     "output_type": "display_data"
    }
   ],
   "source": [
    "plt.hist(distancias);"
   ]
  },
  {
   "cell_type": "code",
   "execution_count": 37,
   "metadata": {},
   "outputs": [
    {
     "data": {
      "image/png": "[encoded data removed]",
      "text/plain": [
       "<Figure size 432x288 with 1 Axes>"
      ]
     },
     "metadata": {
      "needs_background": "light"
     },
     "output_type": "display_data"
    }
   ],
   "source": [
    "#quiero ver si no estuvieran ordenados \n",
    "\n",
    "query = \"SELECT star_name, star_distance FROM exoplanet.epn_core WHERE star_distance IS NOT NULL\"\n",
    "distancia_prueba = service.search(query)\n",
    "\n",
    "i=0\n",
    "prueba = []\n",
    "\n",
    "for i in range(len(distancia_prueba)):\n",
    "    prueba.append(distancia_prueba.getvalue(name = 'star_distance' , index = i))\n",
    "    \n",
    "plt.hist(prueba);                            \n",
    "\n",
    "\n",
    "\n",
    "#vemos que si da lo mismo"
   ]
  },
  {
   "cell_type": "markdown",
   "metadata": {},
   "source": [
    "# Masa vs Radio"
   ]
  },
  {
   "cell_type": "code",
   "execution_count": 38,
   "metadata": {},
   "outputs": [
    {
     "data": {
      "image/png": "[encoded data removed]",
      "text/plain": [
       "<Figure size 432x288 with 1 Axes>"
      ]
     },
     "metadata": {
      "needs_background": "light"
     },
     "output_type": "display_data"
    }
   ],
   "source": [
    "query = 'SELECT mass, radius FROM exoplanet.epn_core WHERE mass IS NOT NULL AND radius IS NOT NULL'\n",
    "masa_radio = service.search(query)\n",
    "\n",
    "i=0\n",
    "x_masa = []\n",
    "y_radio = []\n",
    "\n",
    "for i in range(len(masa_radio)):\n",
    "    x_masa.append(masa_radio.getvalue(name = 'mass', index = i))\n",
    "    y_radio.append(masa_radio.getvalue(name = 'radius', index = i))\n",
    "    \n",
    "plt.scatter(x_masa, y_radio);"
   ]
  },
  {
   "cell_type": "code",
   "execution_count": 39,
   "metadata": {},
   "outputs": [],
   "source": [
    "#help(plt.scatter)"
   ]
  },
  {
   "cell_type": "code",
   "execution_count": 40,
   "metadata": {},
   "outputs": [],
   "source": [
    "import numpy as np"
   ]
  },
  {
   "cell_type": "code",
   "execution_count": 41,
   "metadata": {},
   "outputs": [],
   "source": [
    "#help(np.log)"
   ]
  },
  {
   "cell_type": "code",
   "execution_count": 42,
   "metadata": {},
   "outputs": [
    {
     "data": {
      "image/png": "[encoded data removed]",
      "text/plain": [
       "<Figure size 432x288 with 1 Axes>"
      ]
     },
     "metadata": {
      "needs_background": "light"
     },
     "output_type": "display_data"
    }
   ],
   "source": [
    "plt.scatter(np.log10(x_masa), np.log10(y_radio));"
   ]
  },
  {
   "cell_type": "code",
   "execution_count": 43,
   "metadata": {},
   "outputs": [],
   "source": [
    "log_masa = np.log10(x_masa)\n",
    "log_radio = np.log10(y_radio)"
   ]
  },
  {
   "cell_type": "code",
   "execution_count": 44,
   "metadata": {},
   "outputs": [
    {
     "data": {
      "text/plain": [
       "939"
      ]
     },
     "execution_count": 44,
     "metadata": {},
     "output_type": "execute_result"
    }
   ],
   "source": [
    "len(y_radio)"
   ]
  },
  {
   "cell_type": "code",
   "execution_count": 45,
   "metadata": {},
   "outputs": [
    {
     "data": {
      "text/plain": [
       "939"
      ]
     },
     "execution_count": 45,
     "metadata": {},
     "output_type": "execute_result"
    }
   ],
   "source": [
    "len(log_masa)"
   ]
  },
  {
   "cell_type": "code",
   "execution_count": 46,
   "metadata": {},
   "outputs": [],
   "source": [
    "import sklearn as sk"
   ]
  },
  {
   "cell_type": "code",
   "execution_count": 47,
   "metadata": {},
   "outputs": [],
   "source": [
    "from sklearn import mixture"
   ]
  },
  {
   "cell_type": "code",
   "execution_count": 48,
   "metadata": {},
   "outputs": [],
   "source": [
    "# help(sk.mixture)"
   ]
  },
  {
   "cell_type": "code",
   "execution_count": 49,
   "metadata": {},
   "outputs": [],
   "source": [
    "#help(sk.mixture.GaussianMixture)"
   ]
  },
  {
   "cell_type": "code",
   "execution_count": 50,
   "metadata": {},
   "outputs": [],
   "source": [
    "mix_gauss = sk.mixture.GaussianMixture(n_components=2)"
   ]
  },
  {
   "cell_type": "code",
   "execution_count": 51,
   "metadata": {},
   "outputs": [
    {
     "data": {
      "text/plain": [
       "GaussianMixture(n_components=2)"
      ]
     },
     "execution_count": 51,
     "metadata": {},
     "output_type": "execute_result"
    }
   ],
   "source": [
    "mix_gauss"
   ]
  },
  {
   "cell_type": "code",
   "execution_count": 52,
   "metadata": {},
   "outputs": [
    {
     "ename": "TypeError",
     "evalue": "float() argument must be a string or a number, not 'GaussianMixture'",
     "output_type": "error",
     "traceback": [
      "\u001b[1;31m---------------------------------------------------------------------------\u001b[0m",
      "\u001b[1;31mTypeError\u001b[0m                                 Traceback (most recent call last)",
      "\u001b[1;32m<ipython-input-52-5ff0e6f4ac58>\u001b[0m in \u001b[0;36m<module>\u001b[1;34m\u001b[0m\n\u001b[1;32m----> 1\u001b[1;33m \u001b[0mplt\u001b[0m\u001b[1;33m.\u001b[0m\u001b[0mplot\u001b[0m\u001b[1;33m(\u001b[0m\u001b[0mmix_gauss\u001b[0m\u001b[1;33m)\u001b[0m\u001b[1;33m\u001b[0m\u001b[1;33m\u001b[0m\u001b[0m\n\u001b[0m",
      "\u001b[1;32m~\\anaconda3\\lib\\site-packages\\matplotlib\\pyplot.py\u001b[0m in \u001b[0;36mplot\u001b[1;34m(scalex, scaley, data, *args, **kwargs)\u001b[0m\n\u001b[0;32m   2759\u001b[0m \u001b[1;33m@\u001b[0m\u001b[0mdocstring\u001b[0m\u001b[1;33m.\u001b[0m\u001b[0mcopy\u001b[0m\u001b[1;33m(\u001b[0m\u001b[0mAxes\u001b[0m\u001b[1;33m.\u001b[0m\u001b[0mplot\u001b[0m\u001b[1;33m)\u001b[0m\u001b[1;33m\u001b[0m\u001b[1;33m\u001b[0m\u001b[0m\n\u001b[0;32m   2760\u001b[0m \u001b[1;32mdef\u001b[0m \u001b[0mplot\u001b[0m\u001b[1;33m(\u001b[0m\u001b[1;33m*\u001b[0m\u001b[0margs\u001b[0m\u001b[1;33m,\u001b[0m \u001b[0mscalex\u001b[0m\u001b[1;33m=\u001b[0m\u001b[1;32mTrue\u001b[0m\u001b[1;33m,\u001b[0m \u001b[0mscaley\u001b[0m\u001b[1;33m=\u001b[0m\u001b[1;32mTrue\u001b[0m\u001b[1;33m,\u001b[0m \u001b[0mdata\u001b[0m\u001b[1;33m=\u001b[0m\u001b[1;32mNone\u001b[0m\u001b[1;33m,\u001b[0m \u001b[1;33m**\u001b[0m\u001b[0mkwargs\u001b[0m\u001b[1;33m)\u001b[0m\u001b[1;33m:\u001b[0m\u001b[1;33m\u001b[0m\u001b[1;33m\u001b[0m\u001b[0m\n\u001b[1;32m-> 2761\u001b[1;33m     return gca().plot(\n\u001b[0m\u001b[0;32m   2762\u001b[0m         *args, scalex=scalex, scaley=scaley, **({\"data\": data} if data\n\u001b[0;32m   2763\u001b[0m         is not None else {}), **kwargs)\n",
      "\u001b[1;32m~\\anaconda3\\lib\\site-packages\\matplotlib\\axes\\_axes.py\u001b[0m in \u001b[0;36mplot\u001b[1;34m(self, scalex, scaley, data, *args, **kwargs)\u001b[0m\n\u001b[0;32m   1647\u001b[0m         \u001b[0mlines\u001b[0m \u001b[1;33m=\u001b[0m \u001b[1;33m[\u001b[0m\u001b[1;33m*\u001b[0m\u001b[0mself\u001b[0m\u001b[1;33m.\u001b[0m\u001b[0m_get_lines\u001b[0m\u001b[1;33m(\u001b[0m\u001b[1;33m*\u001b[0m\u001b[0margs\u001b[0m\u001b[1;33m,\u001b[0m \u001b[0mdata\u001b[0m\u001b[1;33m=\u001b[0m\u001b[0mdata\u001b[0m\u001b[1;33m,\u001b[0m \u001b[1;33m**\u001b[0m\u001b[0mkwargs\u001b[0m\u001b[1;33m)\u001b[0m\u001b[1;33m]\u001b[0m\u001b[1;33m\u001b[0m\u001b[1;33m\u001b[0m\u001b[0m\n\u001b[0;32m   1648\u001b[0m         \u001b[1;32mfor\u001b[0m \u001b[0mline\u001b[0m \u001b[1;32min\u001b[0m \u001b[0mlines\u001b[0m\u001b[1;33m:\u001b[0m\u001b[1;33m\u001b[0m\u001b[1;33m\u001b[0m\u001b[0m\n\u001b[1;32m-> 1649\u001b[1;33m             \u001b[0mself\u001b[0m\u001b[1;33m.\u001b[0m\u001b[0madd_line\u001b[0m\u001b[1;33m(\u001b[0m\u001b[0mline\u001b[0m\u001b[1;33m)\u001b[0m\u001b[1;33m\u001b[0m\u001b[1;33m\u001b[0m\u001b[0m\n\u001b[0m\u001b[0;32m   1650\u001b[0m         \u001b[0mself\u001b[0m\u001b[1;33m.\u001b[0m\u001b[0m_request_autoscale_view\u001b[0m\u001b[1;33m(\u001b[0m\u001b[0mscalex\u001b[0m\u001b[1;33m=\u001b[0m\u001b[0mscalex\u001b[0m\u001b[1;33m,\u001b[0m \u001b[0mscaley\u001b[0m\u001b[1;33m=\u001b[0m\u001b[0mscaley\u001b[0m\u001b[1;33m)\u001b[0m\u001b[1;33m\u001b[0m\u001b[1;33m\u001b[0m\u001b[0m\n\u001b[0;32m   1651\u001b[0m         \u001b[1;32mreturn\u001b[0m \u001b[0mlines\u001b[0m\u001b[1;33m\u001b[0m\u001b[1;33m\u001b[0m\u001b[0m\n",
      "\u001b[1;32m~\\anaconda3\\lib\\site-packages\\matplotlib\\axes\\_base.py\u001b[0m in \u001b[0;36madd_line\u001b[1;34m(self, line)\u001b[0m\n\u001b[0;32m   1848\u001b[0m             \u001b[0mline\u001b[0m\u001b[1;33m.\u001b[0m\u001b[0mset_clip_path\u001b[0m\u001b[1;33m(\u001b[0m\u001b[0mself\u001b[0m\u001b[1;33m.\u001b[0m\u001b[0mpatch\u001b[0m\u001b[1;33m)\u001b[0m\u001b[1;33m\u001b[0m\u001b[1;33m\u001b[0m\u001b[0m\n\u001b[0;32m   1849\u001b[0m \u001b[1;33m\u001b[0m\u001b[0m\n\u001b[1;32m-> 1850\u001b[1;33m         \u001b[0mself\u001b[0m\u001b[1;33m.\u001b[0m\u001b[0m_update_line_limits\u001b[0m\u001b[1;33m(\u001b[0m\u001b[0mline\u001b[0m\u001b[1;33m)\u001b[0m\u001b[1;33m\u001b[0m\u001b[1;33m\u001b[0m\u001b[0m\n\u001b[0m\u001b[0;32m   1851\u001b[0m         \u001b[1;32mif\u001b[0m \u001b[1;32mnot\u001b[0m \u001b[0mline\u001b[0m\u001b[1;33m.\u001b[0m\u001b[0mget_label\u001b[0m\u001b[1;33m(\u001b[0m\u001b[1;33m)\u001b[0m\u001b[1;33m:\u001b[0m\u001b[1;33m\u001b[0m\u001b[1;33m\u001b[0m\u001b[0m\n\u001b[0;32m   1852\u001b[0m             \u001b[0mline\u001b[0m\u001b[1;33m.\u001b[0m\u001b[0mset_label\u001b[0m\u001b[1;33m(\u001b[0m\u001b[1;34m'_line%d'\u001b[0m \u001b[1;33m%\u001b[0m \u001b[0mlen\u001b[0m\u001b[1;33m(\u001b[0m\u001b[0mself\u001b[0m\u001b[1;33m.\u001b[0m\u001b[0mlines\u001b[0m\u001b[1;33m)\u001b[0m\u001b[1;33m)\u001b[0m\u001b[1;33m\u001b[0m\u001b[1;33m\u001b[0m\u001b[0m\n",
      "\u001b[1;32m~\\anaconda3\\lib\\site-packages\\matplotlib\\axes\\_base.py\u001b[0m in \u001b[0;36m_update_line_limits\u001b[1;34m(self, line)\u001b[0m\n\u001b[0;32m   1870\u001b[0m         \u001b[0mFigures\u001b[0m \u001b[0mout\u001b[0m \u001b[0mthe\u001b[0m \u001b[0mdata\u001b[0m \u001b[0mlimit\u001b[0m \u001b[0mof\u001b[0m \u001b[0mthe\u001b[0m \u001b[0mgiven\u001b[0m \u001b[0mline\u001b[0m\u001b[1;33m,\u001b[0m \u001b[0mupdating\u001b[0m \u001b[0mself\u001b[0m\u001b[1;33m.\u001b[0m\u001b[0mdataLim\u001b[0m\u001b[1;33m.\u001b[0m\u001b[1;33m\u001b[0m\u001b[1;33m\u001b[0m\u001b[0m\n\u001b[0;32m   1871\u001b[0m         \"\"\"\n\u001b[1;32m-> 1872\u001b[1;33m         \u001b[0mpath\u001b[0m \u001b[1;33m=\u001b[0m \u001b[0mline\u001b[0m\u001b[1;33m.\u001b[0m\u001b[0mget_path\u001b[0m\u001b[1;33m(\u001b[0m\u001b[1;33m)\u001b[0m\u001b[1;33m\u001b[0m\u001b[1;33m\u001b[0m\u001b[0m\n\u001b[0m\u001b[0;32m   1873\u001b[0m         \u001b[1;32mif\u001b[0m \u001b[0mpath\u001b[0m\u001b[1;33m.\u001b[0m\u001b[0mvertices\u001b[0m\u001b[1;33m.\u001b[0m\u001b[0msize\u001b[0m \u001b[1;33m==\u001b[0m \u001b[1;36m0\u001b[0m\u001b[1;33m:\u001b[0m\u001b[1;33m\u001b[0m\u001b[1;33m\u001b[0m\u001b[0m\n\u001b[0;32m   1874\u001b[0m             \u001b[1;32mreturn\u001b[0m\u001b[1;33m\u001b[0m\u001b[1;33m\u001b[0m\u001b[0m\n",
      "\u001b[1;32m~\\anaconda3\\lib\\site-packages\\matplotlib\\lines.py\u001b[0m in \u001b[0;36mget_path\u001b[1;34m(self)\u001b[0m\n\u001b[0;32m   1025\u001b[0m         \"\"\"\n\u001b[0;32m   1026\u001b[0m         \u001b[1;32mif\u001b[0m \u001b[0mself\u001b[0m\u001b[1;33m.\u001b[0m\u001b[0m_invalidy\u001b[0m \u001b[1;32mor\u001b[0m \u001b[0mself\u001b[0m\u001b[1;33m.\u001b[0m\u001b[0m_invalidx\u001b[0m\u001b[1;33m:\u001b[0m\u001b[1;33m\u001b[0m\u001b[1;33m\u001b[0m\u001b[0m\n\u001b[1;32m-> 1027\u001b[1;33m             \u001b[0mself\u001b[0m\u001b[1;33m.\u001b[0m\u001b[0mrecache\u001b[0m\u001b[1;33m(\u001b[0m\u001b[1;33m)\u001b[0m\u001b[1;33m\u001b[0m\u001b[1;33m\u001b[0m\u001b[0m\n\u001b[0m\u001b[0;32m   1028\u001b[0m         \u001b[1;32mreturn\u001b[0m \u001b[0mself\u001b[0m\u001b[1;33m.\u001b[0m\u001b[0m_path\u001b[0m\u001b[1;33m\u001b[0m\u001b[1;33m\u001b[0m\u001b[0m\n\u001b[0;32m   1029\u001b[0m \u001b[1;33m\u001b[0m\u001b[0m\n",
      "\u001b[1;32m~\\anaconda3\\lib\\site-packages\\matplotlib\\lines.py\u001b[0m in \u001b[0;36mrecache\u001b[1;34m(self, always)\u001b[0m\n\u001b[0;32m    673\u001b[0m         \u001b[1;32mif\u001b[0m \u001b[0malways\u001b[0m \u001b[1;32mor\u001b[0m \u001b[0mself\u001b[0m\u001b[1;33m.\u001b[0m\u001b[0m_invalidy\u001b[0m\u001b[1;33m:\u001b[0m\u001b[1;33m\u001b[0m\u001b[1;33m\u001b[0m\u001b[0m\n\u001b[0;32m    674\u001b[0m             \u001b[0myconv\u001b[0m \u001b[1;33m=\u001b[0m \u001b[0mself\u001b[0m\u001b[1;33m.\u001b[0m\u001b[0mconvert_yunits\u001b[0m\u001b[1;33m(\u001b[0m\u001b[0mself\u001b[0m\u001b[1;33m.\u001b[0m\u001b[0m_yorig\u001b[0m\u001b[1;33m)\u001b[0m\u001b[1;33m\u001b[0m\u001b[1;33m\u001b[0m\u001b[0m\n\u001b[1;32m--> 675\u001b[1;33m             \u001b[0my\u001b[0m \u001b[1;33m=\u001b[0m \u001b[0m_to_unmasked_float_array\u001b[0m\u001b[1;33m(\u001b[0m\u001b[0myconv\u001b[0m\u001b[1;33m)\u001b[0m\u001b[1;33m.\u001b[0m\u001b[0mravel\u001b[0m\u001b[1;33m(\u001b[0m\u001b[1;33m)\u001b[0m\u001b[1;33m\u001b[0m\u001b[1;33m\u001b[0m\u001b[0m\n\u001b[0m\u001b[0;32m    676\u001b[0m         \u001b[1;32melse\u001b[0m\u001b[1;33m:\u001b[0m\u001b[1;33m\u001b[0m\u001b[1;33m\u001b[0m\u001b[0m\n\u001b[0;32m    677\u001b[0m             \u001b[0my\u001b[0m \u001b[1;33m=\u001b[0m \u001b[0mself\u001b[0m\u001b[1;33m.\u001b[0m\u001b[0m_y\u001b[0m\u001b[1;33m\u001b[0m\u001b[1;33m\u001b[0m\u001b[0m\n",
      "\u001b[1;32m~\\anaconda3\\lib\\site-packages\\matplotlib\\cbook\\__init__.py\u001b[0m in \u001b[0;36m_to_unmasked_float_array\u001b[1;34m(x)\u001b[0m\n\u001b[0;32m   1315\u001b[0m         \u001b[1;32mreturn\u001b[0m \u001b[0mnp\u001b[0m\u001b[1;33m.\u001b[0m\u001b[0mma\u001b[0m\u001b[1;33m.\u001b[0m\u001b[0masarray\u001b[0m\u001b[1;33m(\u001b[0m\u001b[0mx\u001b[0m\u001b[1;33m,\u001b[0m \u001b[0mfloat\u001b[0m\u001b[1;33m)\u001b[0m\u001b[1;33m.\u001b[0m\u001b[0mfilled\u001b[0m\u001b[1;33m(\u001b[0m\u001b[0mnp\u001b[0m\u001b[1;33m.\u001b[0m\u001b[0mnan\u001b[0m\u001b[1;33m)\u001b[0m\u001b[1;33m\u001b[0m\u001b[1;33m\u001b[0m\u001b[0m\n\u001b[0;32m   1316\u001b[0m     \u001b[1;32melse\u001b[0m\u001b[1;33m:\u001b[0m\u001b[1;33m\u001b[0m\u001b[1;33m\u001b[0m\u001b[0m\n\u001b[1;32m-> 1317\u001b[1;33m         \u001b[1;32mreturn\u001b[0m \u001b[0mnp\u001b[0m\u001b[1;33m.\u001b[0m\u001b[0masarray\u001b[0m\u001b[1;33m(\u001b[0m\u001b[0mx\u001b[0m\u001b[1;33m,\u001b[0m \u001b[0mfloat\u001b[0m\u001b[1;33m)\u001b[0m\u001b[1;33m\u001b[0m\u001b[1;33m\u001b[0m\u001b[0m\n\u001b[0m\u001b[0;32m   1318\u001b[0m \u001b[1;33m\u001b[0m\u001b[0m\n\u001b[0;32m   1319\u001b[0m \u001b[1;33m\u001b[0m\u001b[0m\n",
      "\u001b[1;32m~\\anaconda3\\lib\\site-packages\\numpy\\core\\_asarray.py\u001b[0m in \u001b[0;36masarray\u001b[1;34m(a, dtype, order)\u001b[0m\n\u001b[0;32m     83\u001b[0m \u001b[1;33m\u001b[0m\u001b[0m\n\u001b[0;32m     84\u001b[0m     \"\"\"\n\u001b[1;32m---> 85\u001b[1;33m     \u001b[1;32mreturn\u001b[0m \u001b[0marray\u001b[0m\u001b[1;33m(\u001b[0m\u001b[0ma\u001b[0m\u001b[1;33m,\u001b[0m \u001b[0mdtype\u001b[0m\u001b[1;33m,\u001b[0m \u001b[0mcopy\u001b[0m\u001b[1;33m=\u001b[0m\u001b[1;32mFalse\u001b[0m\u001b[1;33m,\u001b[0m \u001b[0morder\u001b[0m\u001b[1;33m=\u001b[0m\u001b[0morder\u001b[0m\u001b[1;33m)\u001b[0m\u001b[1;33m\u001b[0m\u001b[1;33m\u001b[0m\u001b[0m\n\u001b[0m\u001b[0;32m     86\u001b[0m \u001b[1;33m\u001b[0m\u001b[0m\n\u001b[0;32m     87\u001b[0m \u001b[1;33m\u001b[0m\u001b[0m\n",
      "\u001b[1;31mTypeError\u001b[0m: float() argument must be a string or a number, not 'GaussianMixture'"
     ]
    },
    {
     "data": {
      "image/png": "[encoded data removed]",
      "text/plain": [
       "<Figure size 432x288 with 1 Axes>"
      ]
     },
     "metadata": {
      "needs_background": "light"
     },
     "output_type": "display_data"
    }
   ],
   "source": [
    "plt.plot(mix_gauss)"
   ]
  },
  {
   "cell_type": "code",
   "execution_count": null,
   "metadata": {},
   "outputs": [],
   "source": []
  }
 ],
 "metadata": {
  "kernelspec": {
   "display_name": "Python 3",
   "language": "python",
   "name": "python3"
  },
  "language_info": {
   "codemirror_mode": {
    "name": "ipython",
    "version": 3
   },
   "file_extension": ".py",
   "mimetype": "text/x-python",
   "name": "python",
   "nbconvert_exporter": "python",
   "pygments_lexer": "ipython3",
   "version": "3.8.3"
  }
 },
 "nbformat": 4,
 "nbformat_minor": 4
}
