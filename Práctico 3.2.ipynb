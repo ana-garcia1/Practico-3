{
 "cells": [
  {
   "cell_type": "markdown",
   "metadata": {},
   "source": [
    "# Estudio de distancias"
   ]
  },
  {
   "cell_type": "code",
   "execution_count": 2,
   "metadata": {},
   "outputs": [
    {
     "data": {
      "text/plain": [
       "<Table length=2811>\n",
       "semi_major_axis\n",
       "       AU      \n",
       "    float64    \n",
       "---------------\n",
       "           1.29\n",
       "          243.0\n",
       "           1.54\n",
       "           0.83\n",
       "           2.77\n",
       "           1.68\n",
       "           1.45\n",
       "            2.6\n",
       "          330.0\n",
       "            ...\n",
       "          0.538\n",
       "          1.334\n",
       "          0.133\n",
       "          0.243\n",
       "           1.17\n",
       "          0.059\n",
       "          0.861\n",
       "           2.55\n",
       "         5.2456\n",
       "          907.0"
      ]
     },
     "execution_count": 2,
     "metadata": {},
     "output_type": "execute_result"
    }
   ],
   "source": [
    "import pyvo\n",
    "service = pyvo.dal.TAPService(\"http://voparis-tap-planeto.obspm.fr/tap\")\n",
    "\n",
    "query = 'SELECT semi_major_axis FROM exoplanet.epn_core WHERE semi_major_axis IS NOT NULL'\n",
    "resultado = service.search(query)\n",
    "\n",
    "resultado"
   ]
  },
  {
   "cell_type": "code",
   "execution_count": null,
   "metadata": {},
   "outputs": [],
   "source": []
  }
 ],
 "metadata": {
  "kernelspec": {
   "display_name": "Python 3",
   "language": "python",
   "name": "python3"
  },
  "language_info": {
   "codemirror_mode": {
    "name": "ipython",
    "version": 3
   },
   "file_extension": ".py",
   "mimetype": "text/x-python",
   "name": "python",
   "nbconvert_exporter": "python",
   "pygments_lexer": "ipython3",
   "version": "3.8.3"
  }
 },
 "nbformat": 4,
 "nbformat_minor": 4
}
