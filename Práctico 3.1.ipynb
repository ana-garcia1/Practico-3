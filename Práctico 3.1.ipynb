{
 "cells": [
  {
   "cell_type": "markdown",
   "metadata": {},
   "source": [
    "# Práctico 3"
   ]
  },
  {
   "cell_type": "markdown",
   "metadata": {},
   "source": [
    "En el área de la Astronomía existen diversas Bases de Datos como herramienta para almacenar todos los datos recolectados y poder luego acceder a ellos. Al manipular estos datos es necesario utilizar un software o lenguaje específico. En este caso se empleará el SQL (Structured Query Languaje) y la base de datos exoplanet.eu que es un catálogo de exoplanetas."
   ]
  },
  {
   "cell_type": "markdown",
   "metadata": {},
   "source": [
    "Para empezar, se creará una lista de exoplanetas que contenga las siguientes propiedades: masa, período orbital y tipo de estrella del sistema."
   ]
  },
  {
   "cell_type": "markdown",
   "metadata": {},
   "source": [
    "Primero se importará el paquete pyvo y se seleccionará el servicio a utilizar."
   ]
  },
  {
   "cell_type": "code",
   "execution_count": 1,
   "metadata": {},
   "outputs": [],
   "source": [
    "import pyvo"
   ]
  },
  {
   "cell_type": "code",
   "execution_count": 2,
   "metadata": {},
   "outputs": [],
   "source": [
    "service = pyvo.dal.TAPService(\"http://voparis-tap-planeto.obspm.fr/tap\")"
   ]
  },
  {
   "cell_type": "markdown",
   "metadata": {},
   "source": [
    "A continuación se realizará un query o consulta a la base de datos exoplanet.eu para obtener las propiedades que se requieren."
   ]
  },
  {
   "cell_type": "code",
   "execution_count": 3,
   "metadata": {},
   "outputs": [
    {
     "data": {
      "text/plain": [
       "<Table length=4315>\n",
       "target_name       mass      period  star_spec_type\n",
       "             'jupiterMass'    d                   \n",
       "   object       float64    float64      object    \n",
       "------------ ------------- -------- --------------\n",
       "    11 Com b            --   326.03         G8 III\n",
       "    11 Oph b          21.0 730000.0             M9\n",
       "    11 UMi b            --   516.22          K4III\n",
       "    14 And b            --   185.84          K0III\n",
       "    14 Her b            --   1773.4           K0 V\n",
       "  16 Cyg B b            --    799.5         G2.5 V\n",
       "    17 Sco b            --   578.38         K3 III\n",
       "    18 Del b            --    993.3          G6III\n",
       "1I/'Oumuamua            --       --               \n",
       "         ...           ...      ...            ...\n",
       "   tau Cet e            --   162.87         G8.5 V\n",
       "   tau Cet f            --   636.13         G8.5 V\n",
       "   tau Cet g            --     20.0         G8.5 V\n",
       "   tau Cet h            --    49.41         G8.5 V\n",
       "   tau Gem b            --    305.5          K2III\n",
       "   ups And b          0.62  4.61711           F8 V\n",
       "   ups And c           9.1  240.937           F8 V\n",
       "   ups And d         23.58 1281.439           F8 V\n",
       "   ups And e            --  3848.86           F8 V\n",
       "   zet Del B          40.0       --            A3V"
      ]
     },
     "execution_count": 3,
     "metadata": {},
     "output_type": "execute_result"
    }
   ],
   "source": [
    "query = \"SELECT target_name, mass, period, star_spec_type FROM exoplanet.epn_core\"\n",
    "propiedades = service.search(query)\n",
    "\n",
    "#se puede ver el resultado:\n",
    "propiedades"
   ]
  },
  {
   "cell_type": "markdown",
   "metadata": {},
   "source": [
    "Se puede notar que existen 4315 exoplanetas con estos datos."
   ]
  },
  {
   "cell_type": "code",
   "execution_count": 6,
   "metadata": {},
   "outputs": [
    {
     "name": "stdout",
     "output_type": "stream",
     "text": [
      "Help on TAPResults in module pyvo.dal.tap object:\n",
      "\n",
      "class TAPResults(pyvo.dal.adhoc.DatalinkResultsMixin, pyvo.dal.query.DALResults)\n",
      " |  TAPResults(votable, url=None, session=None)\n",
      " |  \n",
      " |  The list of matching images resulting from an image (SIA) query.\n",
      " |  Each record contains a set of metadata that describes an available\n",
      " |  image matching the query constraints.  The number of records in\n",
      " |  the results is available via the :py:attr:`nrecs` attribute or by\n",
      " |  passing it to the Python built-in ``len()`` function.\n",
      " |  \n",
      " |  This class supports iterable semantics; thus,\n",
      " |  individual records (in the form of\n",
      " |  :py:class:`~pyvo.dal.query.Record` instances) are typically\n",
      " |  accessed by iterating over an ``TAPResults`` instance.\n",
      " |  \n",
      " |  Alternatively, records can be accessed randomly via\n",
      " |  :py:meth:`getrecord` or through a Python Database API (v2)\n",
      " |  Cursor (via :py:meth:`~pyvo.dal.query.DALResults.cursor`).\n",
      " |  Column-based data access is possible via the\n",
      " |  :py:meth:`~pyvo.dal.query.DALResults.getcolumn` method.\n",
      " |  \n",
      " |  ``TAPResults`` is essentially a wrapper around an Astropy\n",
      " |  :py:mod:`~astropy.io.votable`\n",
      " |  :py:class:`~astropy.io.votable.tree.Table` instance where the\n",
      " |  columns contain the various metadata describing the images.\n",
      " |  One can access that VOTable directly via the\n",
      " |  :py:attr:`~pyvo.dal.query.DALResults.votable` attribute.  Thus,\n",
      " |  when one retrieves a whole column via\n",
      " |  :py:meth:`~pyvo.dal.query.DALResults.getcolumn`, the result is\n",
      " |  a Numpy array.  Alternatively, one can manipulate the results\n",
      " |  as an Astropy :py:class:`~astropy.table.table.Table` via the\n",
      " |  following conversion:\n",
      " |  \n",
      " |  >>> table = results.table\n",
      " |  \n",
      " |  ``SIAResults`` supports the array item operator ``[...]`` in a\n",
      " |  read-only context.  When the argument is numerical, the result\n",
      " |  is an\n",
      " |  :py:class:`~pyvo.dal.query.Record` instance, representing the\n",
      " |  record at the position given by the numerical index.  If the\n",
      " |  argument is a string, it is interpreted as the name of a column,\n",
      " |  and the data from the column matching that name is returned as\n",
      " |  a Numpy array.\n",
      " |  \n",
      " |  Method resolution order:\n",
      " |      TAPResults\n",
      " |      pyvo.dal.adhoc.DatalinkResultsMixin\n",
      " |      pyvo.dal.adhoc.AdhocServiceResultsMixin\n",
      " |      pyvo.dal.query.DALResults\n",
      " |      builtins.object\n",
      " |  \n",
      " |  Methods defined here:\n",
      " |  \n",
      " |  getrecord(self, index)\n",
      " |      return a representation of a tap result record that follows\n",
      " |      dictionary semantics. The keys of the dictionary are those returned by\n",
      " |      this instance's fieldnames attribute. The returned record has\n",
      " |      additional image-specific properties\n",
      " |      \n",
      " |      Parameters\n",
      " |      ----------\n",
      " |      index : int\n",
      " |         the integer index of the desired record where 0 returns the first\n",
      " |         record\n",
      " |      \n",
      " |      Returns\n",
      " |      -------\n",
      " |      REc\n",
      " |         a dictionary-like wrapper containing the result record metadata.\n",
      " |      \n",
      " |      Raises\n",
      " |      ------\n",
      " |      IndexError\n",
      " |         if index is negative or equal or larger than the number of rows in\n",
      " |         the result table.\n",
      " |      \n",
      " |      See Also\n",
      " |      --------\n",
      " |      Record\n",
      " |  \n",
      " |  ----------------------------------------------------------------------\n",
      " |  Readonly properties defined here:\n",
      " |  \n",
      " |  infos\n",
      " |      return the info element as dictionary\n",
      " |  \n",
      " |  query_status\n",
      " |      return the query status\n",
      " |  \n",
      " |  ----------------------------------------------------------------------\n",
      " |  Methods inherited from pyvo.dal.adhoc.DatalinkResultsMixin:\n",
      " |  \n",
      " |  iter_datalinks(self)\n",
      " |      Iterates over all datalinks in a DALResult.\n",
      " |  \n",
      " |  ----------------------------------------------------------------------\n",
      " |  Methods inherited from pyvo.dal.adhoc.AdhocServiceResultsMixin:\n",
      " |  \n",
      " |  __init__(self, votable, url=None, session=None)\n",
      " |      Initialize self.  See help(type(self)) for accurate signature.\n",
      " |  \n",
      " |  get_adhocservice_by_id(self, id_)\n",
      " |      Return the adhoc service starting with the given service_def id.\n",
      " |      \n",
      " |      Parameters\n",
      " |      ----------\n",
      " |      id_ : str\n",
      " |         the service_def id of the service we want to have.\n",
      " |      \n",
      " |      Returns\n",
      " |      -------\n",
      " |      Resource\n",
      " |          The resource element describing the service.\n",
      " |  \n",
      " |  get_adhocservice_by_ivoid(self, ivo_id)\n",
      " |      Return the adhoc service starting with the given ivo_id.\n",
      " |      \n",
      " |      Parameters\n",
      " |      ----------\n",
      " |      ivoid : str\n",
      " |         the ivoid of the service we want to have.\n",
      " |      \n",
      " |      Returns\n",
      " |      -------\n",
      " |      Resource\n",
      " |          The resource element describing the service.\n",
      " |  \n",
      " |  iter_adhocservices(self)\n",
      " |  \n",
      " |  ----------------------------------------------------------------------\n",
      " |  Data descriptors inherited from pyvo.dal.adhoc.AdhocServiceResultsMixin:\n",
      " |  \n",
      " |  __dict__\n",
      " |      dictionary for instance variables (if defined)\n",
      " |  \n",
      " |  __weakref__\n",
      " |      list of weak references to the object (if defined)\n",
      " |  \n",
      " |  ----------------------------------------------------------------------\n",
      " |  Methods inherited from pyvo.dal.query.DALResults:\n",
      " |  \n",
      " |  __getitem__(self, indx)\n",
      " |      if indx is a string, r[indx] will return the field with the name of\n",
      " |      indx; if indx is an integer, r[indx] will return the indx-th record.\n",
      " |  \n",
      " |  __iter__(self)\n",
      " |      return a python iterable for stepping through the records in this\n",
      " |      result\n",
      " |  \n",
      " |  __len__(self)\n",
      " |      return the record count\n",
      " |  \n",
      " |  __repr__(self)\n",
      " |      Return repr(self).\n",
      " |  \n",
      " |  broadcast_samp(self, client_name=None)\n",
      " |      Broadcast the table to ``client_name`` via SAMP\n",
      " |  \n",
      " |  cursor(self)\n",
      " |      return a cursor that is compliant with the Python Database API's\n",
      " |      :class:`.Cursor` interface.  See PEP 249 for details.\n",
      " |  \n",
      " |  fieldname_with_ucd(self, ucd)\n",
      " |      return the field name that has a given UCD value or None if the UCD\n",
      " |      is not found.\n",
      " |  \n",
      " |  fieldname_with_utype(self, utype)\n",
      " |      return the field name that has a given UType value or None if the UType\n",
      " |      is not found.\n",
      " |  \n",
      " |  getcolumn(self, name)\n",
      " |      return a numpy array containing the values for the column with the\n",
      " |      given name\n",
      " |  \n",
      " |  getdesc(self, name)\n",
      " |      return the field description for the record attribute (column) with\n",
      " |      the given name\n",
      " |      \n",
      " |      Parameters\n",
      " |      ----------\n",
      " |      name : str\n",
      " |         the name of the attribute (column)\n",
      " |      \n",
      " |      Returns\n",
      " |      -------\n",
      " |      object\n",
      " |         with attributes (name, id, datatype, unit, ucd, utype, arraysize)\n",
      " |         which describe the column\n",
      " |  \n",
      " |  getvalue(self, name, index)\n",
      " |      return the value of a record attribute--a value from a column and row.\n",
      " |      \n",
      " |      Parameters\n",
      " |      ----------\n",
      " |      name : str\n",
      " |         the name of the attribute (column)\n",
      " |      index : int\n",
      " |         the zero-based index of the record\n",
      " |      \n",
      " |      Raises\n",
      " |      ------\n",
      " |      IndexError\n",
      " |         if index is negative or equal or larger than the\n",
      " |         number of rows in the result table.\n",
      " |      KeyError\n",
      " |         if name is not a recognized column name\n",
      " |  \n",
      " |  to_table(self)\n",
      " |      Returns a astropy Table object.\n",
      " |      \n",
      " |      Returns\n",
      " |      -------\n",
      " |      `astropy.table.Table`\n",
      " |  \n",
      " |  ----------------------------------------------------------------------\n",
      " |  Class methods inherited from pyvo.dal.query.DALResults:\n",
      " |  \n",
      " |  from_result_url(result_url, session=None) from builtins.type\n",
      " |      Create a result object from a url.\n",
      " |      \n",
      " |      Uses the optional session to make the request.\n",
      " |  \n",
      " |  ----------------------------------------------------------------------\n",
      " |  Readonly properties inherited from pyvo.dal.query.DALResults:\n",
      " |  \n",
      " |  fielddescs\n",
      " |      return the full metadata the columns as a list of Field instances,\n",
      " |      a simple object with attributes corresponding the the VOTable FIELD\n",
      " |      attributes, namely: name, id, type, ucd, utype, arraysize, description\n",
      " |  \n",
      " |  fieldnames\n",
      " |      return the names of the columns.  These are the names that are used\n",
      " |      to access values from the dictionaries returned by getrecord().  They\n",
      " |      correspond to the column name.\n",
      " |  \n",
      " |  queryurl\n",
      " |      the URL query that produced these results.  None is returned if unknown\n",
      " |  \n",
      " |  resultstable\n",
      " |      The votable XML element `astropy.io.votable.tree.Table`\n",
      " |  \n",
      " |  status\n",
      " |      The query status as a 2-element tuple e.g. ('OK', 'Everythings fine')\n",
      " |  \n",
      " |  table\n",
      " |  \n",
      " |  votable\n",
      " |      The complete votable XML Document `astropy.io.votable.tree.VOTableFile`\n",
      "\n"
     ]
    }
   ],
   "source": [
    "#se puede ver qué características tiene \"propiedades\"\n",
    "help(propiedades)"
   ]
  },
  {
   "cell_type": "markdown",
   "metadata": {},
   "source": [
    "A continuación se incluirán los datos en listas."
   ]
  },
  {
   "cell_type": "code",
   "execution_count": 8,
   "metadata": {},
   "outputs": [
    {
     "name": "stdout",
     "output_type": "stream",
     "text": [
      "Help on method getcolumn in module pyvo.dal.query:\n",
      "\n",
      "getcolumn(name) method of pyvo.dal.tap.TAPResults instance\n",
      "    return a numpy array containing the values for the column with the\n",
      "    given name\n",
      "\n"
     ]
    }
   ],
   "source": [
    "help(propiedades.getcolumn)"
   ]
  },
  {
   "cell_type": "code",
   "execution_count": 15,
   "metadata": {},
   "outputs": [
    {
     "data": {
      "text/plain": [
       "masked_array(data=[--, 21.0, --, ..., 23.58, --, 40.0],\n",
       "             mask=[ True, False,  True, ..., False,  True, False],\n",
       "       fill_value=1e+20)"
      ]
     },
     "execution_count": 15,
     "metadata": {},
     "output_type": "execute_result"
    }
   ],
   "source": [
    "masa_prueba = propiedades.getcolumn(name = 'mass')\n",
    "masa_prueba"
   ]
  },
  {
   "cell_type": "code",
   "execution_count": 16,
   "metadata": {},
   "outputs": [
    {
     "name": "stdout",
     "output_type": "stream",
     "text": [
      "Help on method getvalue in module pyvo.dal.query:\n",
      "\n",
      "getvalue(name, index) method of pyvo.dal.tap.TAPResults instance\n",
      "    return the value of a record attribute--a value from a column and row.\n",
      "    \n",
      "    Parameters\n",
      "    ----------\n",
      "    name : str\n",
      "       the name of the attribute (column)\n",
      "    index : int\n",
      "       the zero-based index of the record\n",
      "    \n",
      "    Raises\n",
      "    ------\n",
      "    IndexError\n",
      "       if index is negative or equal or larger than the\n",
      "       number of rows in the result table.\n",
      "    KeyError\n",
      "       if name is not a recognized column name\n",
      "\n"
     ]
    }
   ],
   "source": [
    "help(propiedades.getvalue)"
   ]
  },
  {
   "cell_type": "code",
   "execution_count": 20,
   "metadata": {},
   "outputs": [],
   "source": [
    "i=0\n",
    "masa = []\n",
    "periodo = []\n",
    "tipo_estrella = []\n",
    "\n",
    "for i in range(len(propiedades)):\n",
    "    masa.append(propiedades.getvalue(name = 'mass', index = i))\n",
    "    periodo.append(propiedades.getvalue(name = 'period', index = i))\n",
    "    tipo_estrella.append(propiedades.getvalue(name = 'star_spec_type', index = i))"
   ]
  },
  {
   "cell_type": "code",
   "execution_count": 21,
   "metadata": {},
   "outputs": [],
   "source": [
    "# ver que hice 3 listas. Tengo que hacer una sola con todas las propiedades? una tabla con pandas por ejemplo?\n",
    "#también corregir si hace falta sacar los exoplanetas que no tienen valores (nan)"
   ]
  },
  {
   "cell_type": "markdown",
   "metadata": {},
   "source": [
    "# Tipo de detección"
   ]
  },
  {
   "cell_type": "markdown",
   "metadata": {},
   "source": [
    "Se estudiará la distribución de índices de masas y períodos orbitales según las diferentes técnicas observacionales. De esta manera se podrá determinar si existe algún sesgo en cuanto a la técnica utilizada para la detección de exoplanetas al determinar sus propiedades.\n",
    "\n",
    "Para esto es necesario consultar en la base de datos la técnica de detección utilizada por lo que se hará un nuevo query."
   ]
  },
  {
   "cell_type": "code",
   "execution_count": null,
   "metadata": {},
   "outputs": [],
   "source": [
    "# ver práctico borrador"
   ]
  }
 ],
 "metadata": {
  "kernelspec": {
   "display_name": "Python 3",
   "language": "python",
   "name": "python3"
  },
  "language_info": {
   "codemirror_mode": {
    "name": "ipython",
    "version": 3
   },
   "file_extension": ".py",
   "mimetype": "text/x-python",
   "name": "python",
   "nbconvert_exporter": "python",
   "pygments_lexer": "ipython3",
   "version": "3.8.3"
  }
 },
 "nbformat": 4,
 "nbformat_minor": 4
}
