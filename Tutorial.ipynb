{
 "cells": [
  {
   "cell_type": "code",
   "execution_count": 2,
   "metadata": {},
   "outputs": [],
   "source": [
    "import pyvo"
   ]
  },
  {
   "cell_type": "code",
   "execution_count": 3,
   "metadata": {},
   "outputs": [],
   "source": [
    "#seleccionamos el servicio que queremos usar\n",
    "service = pyvo.dal.TAPService(\"http://voparis-tap-planeto.obspm.fr/tap\")"
   ]
  },
  {
   "cell_type": "code",
   "execution_count": 4,
   "metadata": {},
   "outputs": [],
   "source": [
    "#hacemos un query para este servicio y seleccionamos la tabla correcta de exoplanet.eu\n",
    "query = \"SELECT * FROM exoplanet.epn_core WHERE semi_major_axis < 5\""
   ]
  },
  {
   "cell_type": "code",
   "execution_count": 5,
   "metadata": {},
   "outputs": [],
   "source": [
    "#para obtener los resultados en una tabla llamada results\n",
    "results = service.search(query)"
   ]
  },
  {
   "cell_type": "code",
   "execution_count": 5,
   "metadata": {},
   "outputs": [
    {
     "name": "stdout",
     "output_type": "stream",
     "text": [
      "Help on TAPResults in module pyvo.dal.tap object:\n",
      "\n",
      "class TAPResults(pyvo.dal.adhoc.DatalinkResultsMixin, pyvo.dal.query.DALResults)\n",
      " |  TAPResults(votable, url=None, session=None)\n",
      " |  \n",
      " |  The list of matching images resulting from an image (SIA) query.\n",
      " |  Each record contains a set of metadata that describes an available\n",
      " |  image matching the query constraints.  The number of records in\n",
      " |  the results is available via the :py:attr:`nrecs` attribute or by\n",
      " |  passing it to the Python built-in ``len()`` function.\n",
      " |  \n",
      " |  This class supports iterable semantics; thus,\n",
      " |  individual records (in the form of\n",
      " |  :py:class:`~pyvo.dal.query.Record` instances) are typically\n",
      " |  accessed by iterating over an ``TAPResults`` instance.\n",
      " |  \n",
      " |  Alternatively, records can be accessed randomly via\n",
      " |  :py:meth:`getrecord` or through a Python Database API (v2)\n",
      " |  Cursor (via :py:meth:`~pyvo.dal.query.DALResults.cursor`).\n",
      " |  Column-based data access is possible via the\n",
      " |  :py:meth:`~pyvo.dal.query.DALResults.getcolumn` method.\n",
      " |  \n",
      " |  ``TAPResults`` is essentially a wrapper around an Astropy\n",
      " |  :py:mod:`~astropy.io.votable`\n",
      " |  :py:class:`~astropy.io.votable.tree.Table` instance where the\n",
      " |  columns contain the various metadata describing the images.\n",
      " |  One can access that VOTable directly via the\n",
      " |  :py:attr:`~pyvo.dal.query.DALResults.votable` attribute.  Thus,\n",
      " |  when one retrieves a whole column via\n",
      " |  :py:meth:`~pyvo.dal.query.DALResults.getcolumn`, the result is\n",
      " |  a Numpy array.  Alternatively, one can manipulate the results\n",
      " |  as an Astropy :py:class:`~astropy.table.table.Table` via the\n",
      " |  following conversion:\n",
      " |  \n",
      " |  >>> table = results.table\n",
      " |  \n",
      " |  ``SIAResults`` supports the array item operator ``[...]`` in a\n",
      " |  read-only context.  When the argument is numerical, the result\n",
      " |  is an\n",
      " |  :py:class:`~pyvo.dal.query.Record` instance, representing the\n",
      " |  record at the position given by the numerical index.  If the\n",
      " |  argument is a string, it is interpreted as the name of a column,\n",
      " |  and the data from the column matching that name is returned as\n",
      " |  a Numpy array.\n",
      " |  \n",
      " |  Method resolution order:\n",
      " |      TAPResults\n",
      " |      pyvo.dal.adhoc.DatalinkResultsMixin\n",
      " |      pyvo.dal.adhoc.AdhocServiceResultsMixin\n",
      " |      pyvo.dal.query.DALResults\n",
      " |      builtins.object\n",
      " |  \n",
      " |  Methods defined here:\n",
      " |  \n",
      " |  getrecord(self, index)\n",
      " |      return a representation of a tap result record that follows\n",
      " |      dictionary semantics. The keys of the dictionary are those returned by\n",
      " |      this instance's fieldnames attribute. The returned record has\n",
      " |      additional image-specific properties\n",
      " |      \n",
      " |      Parameters\n",
      " |      ----------\n",
      " |      index : int\n",
      " |         the integer index of the desired record where 0 returns the first\n",
      " |         record\n",
      " |      \n",
      " |      Returns\n",
      " |      -------\n",
      " |      REc\n",
      " |         a dictionary-like wrapper containing the result record metadata.\n",
      " |      \n",
      " |      Raises\n",
      " |      ------\n",
      " |      IndexError\n",
      " |         if index is negative or equal or larger than the number of rows in\n",
      " |         the result table.\n",
      " |      \n",
      " |      See Also\n",
      " |      --------\n",
      " |      Record\n",
      " |  \n",
      " |  ----------------------------------------------------------------------\n",
      " |  Readonly properties defined here:\n",
      " |  \n",
      " |  infos\n",
      " |      return the info element as dictionary\n",
      " |  \n",
      " |  query_status\n",
      " |      return the query status\n",
      " |  \n",
      " |  ----------------------------------------------------------------------\n",
      " |  Methods inherited from pyvo.dal.adhoc.DatalinkResultsMixin:\n",
      " |  \n",
      " |  iter_datalinks(self)\n",
      " |      Iterates over all datalinks in a DALResult.\n",
      " |  \n",
      " |  ----------------------------------------------------------------------\n",
      " |  Methods inherited from pyvo.dal.adhoc.AdhocServiceResultsMixin:\n",
      " |  \n",
      " |  __init__(self, votable, url=None, session=None)\n",
      " |      Initialize self.  See help(type(self)) for accurate signature.\n",
      " |  \n",
      " |  get_adhocservice_by_id(self, id_)\n",
      " |      Return the adhoc service starting with the given service_def id.\n",
      " |      \n",
      " |      Parameters\n",
      " |      ----------\n",
      " |      id_ : str\n",
      " |         the service_def id of the service we want to have.\n",
      " |      \n",
      " |      Returns\n",
      " |      -------\n",
      " |      Resource\n",
      " |          The resource element describing the service.\n",
      " |  \n",
      " |  get_adhocservice_by_ivoid(self, ivo_id)\n",
      " |      Return the adhoc service starting with the given ivo_id.\n",
      " |      \n",
      " |      Parameters\n",
      " |      ----------\n",
      " |      ivoid : str\n",
      " |         the ivoid of the service we want to have.\n",
      " |      \n",
      " |      Returns\n",
      " |      -------\n",
      " |      Resource\n",
      " |          The resource element describing the service.\n",
      " |  \n",
      " |  iter_adhocservices(self)\n",
      " |  \n",
      " |  ----------------------------------------------------------------------\n",
      " |  Data descriptors inherited from pyvo.dal.adhoc.AdhocServiceResultsMixin:\n",
      " |  \n",
      " |  __dict__\n",
      " |      dictionary for instance variables (if defined)\n",
      " |  \n",
      " |  __weakref__\n",
      " |      list of weak references to the object (if defined)\n",
      " |  \n",
      " |  ----------------------------------------------------------------------\n",
      " |  Methods inherited from pyvo.dal.query.DALResults:\n",
      " |  \n",
      " |  __getitem__(self, indx)\n",
      " |      if indx is a string, r[indx] will return the field with the name of\n",
      " |      indx; if indx is an integer, r[indx] will return the indx-th record.\n",
      " |  \n",
      " |  __iter__(self)\n",
      " |      return a python iterable for stepping through the records in this\n",
      " |      result\n",
      " |  \n",
      " |  __len__(self)\n",
      " |      return the record count\n",
      " |  \n",
      " |  __repr__(self)\n",
      " |      Return repr(self).\n",
      " |  \n",
      " |  broadcast_samp(self, client_name=None)\n",
      " |      Broadcast the table to ``client_name`` via SAMP\n",
      " |  \n",
      " |  cursor(self)\n",
      " |      return a cursor that is compliant with the Python Database API's\n",
      " |      :class:`.Cursor` interface.  See PEP 249 for details.\n",
      " |  \n",
      " |  fieldname_with_ucd(self, ucd)\n",
      " |      return the field name that has a given UCD value or None if the UCD\n",
      " |      is not found.\n",
      " |  \n",
      " |  fieldname_with_utype(self, utype)\n",
      " |      return the field name that has a given UType value or None if the UType\n",
      " |      is not found.\n",
      " |  \n",
      " |  getcolumn(self, name)\n",
      " |      return a numpy array containing the values for the column with the\n",
      " |      given name\n",
      " |  \n",
      " |  getdesc(self, name)\n",
      " |      return the field description for the record attribute (column) with\n",
      " |      the given name\n",
      " |      \n",
      " |      Parameters\n",
      " |      ----------\n",
      " |      name : str\n",
      " |         the name of the attribute (column)\n",
      " |      \n",
      " |      Returns\n",
      " |      -------\n",
      " |      object\n",
      " |         with attributes (name, id, datatype, unit, ucd, utype, arraysize)\n",
      " |         which describe the column\n",
      " |  \n",
      " |  getvalue(self, name, index)\n",
      " |      return the value of a record attribute--a value from a column and row.\n",
      " |      \n",
      " |      Parameters\n",
      " |      ----------\n",
      " |      name : str\n",
      " |         the name of the attribute (column)\n",
      " |      index : int\n",
      " |         the zero-based index of the record\n",
      " |      \n",
      " |      Raises\n",
      " |      ------\n",
      " |      IndexError\n",
      " |         if index is negative or equal or larger than the\n",
      " |         number of rows in the result table.\n",
      " |      KeyError\n",
      " |         if name is not a recognized column name\n",
      " |  \n",
      " |  to_table(self)\n",
      " |      Returns a astropy Table object.\n",
      " |      \n",
      " |      Returns\n",
      " |      -------\n",
      " |      `astropy.table.Table`\n",
      " |  \n",
      " |  ----------------------------------------------------------------------\n",
      " |  Class methods inherited from pyvo.dal.query.DALResults:\n",
      " |  \n",
      " |  from_result_url(result_url, session=None) from builtins.type\n",
      " |      Create a result object from a url.\n",
      " |      \n",
      " |      Uses the optional session to make the request.\n",
      " |  \n",
      " |  ----------------------------------------------------------------------\n",
      " |  Readonly properties inherited from pyvo.dal.query.DALResults:\n",
      " |  \n",
      " |  fielddescs\n",
      " |      return the full metadata the columns as a list of Field instances,\n",
      " |      a simple object with attributes corresponding the the VOTable FIELD\n",
      " |      attributes, namely: name, id, type, ucd, utype, arraysize, description\n",
      " |  \n",
      " |  fieldnames\n",
      " |      return the names of the columns.  These are the names that are used\n",
      " |      to access values from the dictionaries returned by getrecord().  They\n",
      " |      correspond to the column name.\n",
      " |  \n",
      " |  queryurl\n",
      " |      the URL query that produced these results.  None is returned if unknown\n",
      " |  \n",
      " |  resultstable\n",
      " |      The votable XML element `astropy.io.votable.tree.Table`\n",
      " |  \n",
      " |  status\n",
      " |      The query status as a 2-element tuple e.g. ('OK', 'Everythings fine')\n",
      " |  \n",
      " |  table\n",
      " |  \n",
      " |  votable\n",
      " |      The complete votable XML Document `astropy.io.votable.tree.VOTableFile`\n",
      "\n"
     ]
    }
   ],
   "source": [
    "help(results)"
   ]
  },
  {
   "cell_type": "code",
   "execution_count": 6,
   "metadata": {},
   "outputs": [
    {
     "data": {
      "text/plain": [
       "\u001b[1;31mSignature:\u001b[0m \u001b[0mresults\u001b[0m\u001b[1;33m.\u001b[0m\u001b[0mgetvalue\u001b[0m\u001b[1;33m(\u001b[0m\u001b[0mname\u001b[0m\u001b[1;33m,\u001b[0m \u001b[0mindex\u001b[0m\u001b[1;33m)\u001b[0m\u001b[1;33m\u001b[0m\u001b[1;33m\u001b[0m\u001b[0m\n",
       "\u001b[1;31mDocstring:\u001b[0m\n",
       "return the value of a record attribute--a value from a column and row.\n",
       "\n",
       "Parameters\n",
       "----------\n",
       "name : str\n",
       "   the name of the attribute (column)\n",
       "index : int\n",
       "   the zero-based index of the record\n",
       "\n",
       "Raises\n",
       "------\n",
       "IndexError\n",
       "   if index is negative or equal or larger than the\n",
       "   number of rows in the result table.\n",
       "KeyError\n",
       "   if name is not a recognized column name\n",
       "\u001b[1;31mFile:\u001b[0m      c:\\users\\ana laura\\anaconda3\\lib\\site-packages\\pyvo\\dal\\query.py\n",
       "\u001b[1;31mType:\u001b[0m      method\n"
      ]
     },
     "metadata": {},
     "output_type": "display_data"
    }
   ],
   "source": [
    "results.getvalue?"
   ]
  },
  {
   "cell_type": "code",
   "execution_count": 7,
   "metadata": {},
   "outputs": [
    {
     "ename": "ValueError",
     "evalue": "no field of name i",
     "output_type": "error",
     "traceback": [
      "\u001b[1;31m---------------------------------------------------------------------------\u001b[0m",
      "\u001b[1;31mValueError\u001b[0m                                Traceback (most recent call last)",
      "\u001b[1;32m<ipython-input-7-4e05c2ba1117>\u001b[0m in \u001b[0;36m<module>\u001b[1;34m\u001b[0m\n\u001b[1;32m----> 1\u001b[1;33m \u001b[0mresults\u001b[0m\u001b[1;33m.\u001b[0m\u001b[0mgetvalue\u001b[0m\u001b[1;33m(\u001b[0m\u001b[0mname\u001b[0m\u001b[1;33m=\u001b[0m\u001b[1;34m'mass'\u001b[0m\u001b[1;33m,\u001b[0m \u001b[0mindex\u001b[0m\u001b[1;33m=\u001b[0m\u001b[1;34m'i'\u001b[0m\u001b[1;33m)\u001b[0m\u001b[1;33m\u001b[0m\u001b[1;33m\u001b[0m\u001b[0m\n\u001b[0m",
      "\u001b[1;32m~\\anaconda3\\lib\\site-packages\\pyvo\\dal\\query.py\u001b[0m in \u001b[0;36mgetvalue\u001b[1;34m(self, name, index)\u001b[0m\n\u001b[0;32m    567\u001b[0m            \u001b[1;32mif\u001b[0m \u001b[0mname\u001b[0m \u001b[1;32mis\u001b[0m \u001b[1;32mnot\u001b[0m \u001b[0ma\u001b[0m \u001b[0mrecognized\u001b[0m \u001b[0mcolumn\u001b[0m \u001b[0mname\u001b[0m\u001b[1;33m\u001b[0m\u001b[1;33m\u001b[0m\u001b[0m\n\u001b[0;32m    568\u001b[0m         \"\"\"\n\u001b[1;32m--> 569\u001b[1;33m         \u001b[1;32mreturn\u001b[0m \u001b[0mself\u001b[0m\u001b[1;33m.\u001b[0m\u001b[0mgetrecord\u001b[0m\u001b[1;33m(\u001b[0m\u001b[0mindex\u001b[0m\u001b[1;33m)\u001b[0m\u001b[1;33m[\u001b[0m\u001b[0mname\u001b[0m\u001b[1;33m]\u001b[0m\u001b[1;33m\u001b[0m\u001b[1;33m\u001b[0m\u001b[0m\n\u001b[0m\u001b[0;32m    570\u001b[0m \u001b[1;33m\u001b[0m\u001b[0m\n\u001b[0;32m    571\u001b[0m     \u001b[1;32mdef\u001b[0m \u001b[0mgetdesc\u001b[0m\u001b[1;33m(\u001b[0m\u001b[0mself\u001b[0m\u001b[1;33m,\u001b[0m \u001b[0mname\u001b[0m\u001b[1;33m)\u001b[0m\u001b[1;33m:\u001b[0m\u001b[1;33m\u001b[0m\u001b[1;33m\u001b[0m\u001b[0m\n",
      "\u001b[1;32m~\\anaconda3\\lib\\site-packages\\pyvo\\dal\\tap.py\u001b[0m in \u001b[0;36mgetrecord\u001b[1;34m(self, index)\u001b[0m\n\u001b[0;32m   1049\u001b[0m         \u001b[0mRecord\u001b[0m\u001b[1;33m\u001b[0m\u001b[1;33m\u001b[0m\u001b[0m\n\u001b[0;32m   1050\u001b[0m         \"\"\"\n\u001b[1;32m-> 1051\u001b[1;33m         \u001b[1;32mreturn\u001b[0m \u001b[0mTAPRecord\u001b[0m\u001b[1;33m(\u001b[0m\u001b[0mself\u001b[0m\u001b[1;33m,\u001b[0m \u001b[0mindex\u001b[0m\u001b[1;33m)\u001b[0m\u001b[1;33m\u001b[0m\u001b[1;33m\u001b[0m\u001b[0m\n\u001b[0m\u001b[0;32m   1052\u001b[0m \u001b[1;33m\u001b[0m\u001b[0m\n\u001b[0;32m   1053\u001b[0m \u001b[1;33m\u001b[0m\u001b[0m\n",
      "\u001b[1;32m~\\anaconda3\\lib\\site-packages\\pyvo\\dal\\query.py\u001b[0m in \u001b[0;36m__init__\u001b[1;34m(self, results, index, session)\u001b[0m\n\u001b[0;32m    639\u001b[0m             zip(\n\u001b[0;32m    640\u001b[0m                 \u001b[0mresults\u001b[0m\u001b[1;33m.\u001b[0m\u001b[0mfieldnames\u001b[0m\u001b[1;33m,\u001b[0m\u001b[1;33m\u001b[0m\u001b[1;33m\u001b[0m\u001b[0m\n\u001b[1;32m--> 641\u001b[1;33m                 \u001b[0mresults\u001b[0m\u001b[1;33m.\u001b[0m\u001b[0mresultstable\u001b[0m\u001b[1;33m.\u001b[0m\u001b[0marray\u001b[0m\u001b[1;33m.\u001b[0m\u001b[0mdata\u001b[0m\u001b[1;33m[\u001b[0m\u001b[0mindex\u001b[0m\u001b[1;33m]\u001b[0m\u001b[1;33m\u001b[0m\u001b[1;33m\u001b[0m\u001b[0m\n\u001b[0m\u001b[0;32m    642\u001b[0m             )\n\u001b[0;32m    643\u001b[0m         )\n",
      "\u001b[1;31mValueError\u001b[0m: no field of name i"
     ]
    }
   ],
   "source": [
    "results.getvalue(name='mass', index='i')"
   ]
  },
  {
   "cell_type": "code",
   "execution_count": null,
   "metadata": {},
   "outputs": [],
   "source": [
    "results.getvalue(name='mass', index='mass')"
   ]
  },
  {
   "cell_type": "code",
   "execution_count": null,
   "metadata": {},
   "outputs": [],
   "source": [
    "i=0\n",
    "masa = []\n",
    "for i in results:\n",
    "    masa.append(results.getvalue(name='mass', index='i')) "
   ]
  },
  {
   "cell_type": "code",
   "execution_count": null,
   "metadata": {},
   "outputs": [],
   "source": [
    "help(i)"
   ]
  },
  {
   "cell_type": "code",
   "execution_count": null,
   "metadata": {},
   "outputs": [],
   "source": [
    "import numpy as np"
   ]
  },
  {
   "cell_type": "code",
   "execution_count": null,
   "metadata": {},
   "outputs": [],
   "source": [
    "np.shape?"
   ]
  },
  {
   "cell_type": "code",
   "execution_count": null,
   "metadata": {},
   "outputs": [],
   "source": [
    "tamaño = np.shape(results)"
   ]
  },
  {
   "cell_type": "code",
   "execution_count": null,
   "metadata": {},
   "outputs": [],
   "source": [
    "tamaño"
   ]
  },
  {
   "cell_type": "code",
   "execution_count": null,
   "metadata": {},
   "outputs": [],
   "source": [
    "i=0\n",
    "masa = []\n",
    "while i < tamaño[0]:\n",
    "    masa.append( results.getvalue(name='mass', index=i))"
   ]
  },
  {
   "cell_type": "code",
   "execution_count": null,
   "metadata": {},
   "outputs": [],
   "source": [
    "masa"
   ]
  },
  {
   "cell_type": "code",
   "execution_count": null,
   "metadata": {},
   "outputs": [],
   "source": [
    "for k in i:\n",
    "    print(k)"
   ]
  },
  {
   "cell_type": "code",
   "execution_count": null,
   "metadata": {},
   "outputs": [],
   "source": [
    "for i in results:\n",
    "    print (type(i))"
   ]
  },
  {
   "cell_type": "code",
   "execution_count": null,
   "metadata": {},
   "outputs": [],
   "source": [
    "len(results)   #num de filas (planetas)"
   ]
  },
  {
   "cell_type": "code",
   "execution_count": null,
   "metadata": {},
   "outputs": [],
   "source": [
    "len(results[0]) #num de columnas (campos)"
   ]
  },
  {
   "cell_type": "code",
   "execution_count": null,
   "metadata": {},
   "outputs": [],
   "source": [
    "results[0].get('target_name')  #ver la columna target_name"
   ]
  },
  {
   "cell_type": "code",
   "execution_count": null,
   "metadata": {},
   "outputs": [],
   "source": [
    "results['target_name',0]   #lo mismo de otra forma"
   ]
  },
  {
   "cell_type": "code",
   "execution_count": null,
   "metadata": {},
   "outputs": [],
   "source": [
    "results?"
   ]
  },
  {
   "cell_type": "code",
   "execution_count": null,
   "metadata": {},
   "outputs": [],
   "source": [
    "vot=results.votable   #accedemos a la tabla VO en nuestro array de resultados"
   ]
  },
  {
   "cell_type": "code",
   "execution_count": null,
   "metadata": {},
   "outputs": [],
   "source": [
    "vot.to_xml(\"myresults.xml\")  #guardamos la tabla VO en myresults"
   ]
  },
  {
   "cell_type": "code",
   "execution_count": null,
   "metadata": {},
   "outputs": [],
   "source": [
    "import numpy as np"
   ]
  },
  {
   "cell_type": "code",
   "execution_count": null,
   "metadata": {},
   "outputs": [],
   "source": [
    "np.save('myresults',results.to_table())"
   ]
  },
  {
   "cell_type": "code",
   "execution_count": null,
   "metadata": {},
   "outputs": [],
   "source": [
    "#para acceder a nuestra tabla una vez guardada usamos parse\n",
    "from astropy.io.votable import parse"
   ]
  },
  {
   "cell_type": "code",
   "execution_count": null,
   "metadata": {},
   "outputs": [],
   "source": [
    "vot = parse(\"myresults.xml\")"
   ]
  },
  {
   "cell_type": "code",
   "execution_count": null,
   "metadata": {},
   "outputs": [],
   "source": [
    "results = vot.get_first_table()  #elegimos la primera y única tabla     #me dice que votable no está definido"
   ]
  },
  {
   "cell_type": "code",
   "execution_count": null,
   "metadata": {},
   "outputs": [],
   "source": [
    "help(np.load)"
   ]
  },
  {
   "cell_type": "code",
   "execution_count": null,
   "metadata": {},
   "outputs": [],
   "source": [
    "#pero si la guardamos con numpy usamos:\n",
    "results=np.load('myresults.npy', allow_pickle=True)"
   ]
  },
  {
   "cell_type": "code",
   "execution_count": null,
   "metadata": {},
   "outputs": [],
   "source": [
    "results?"
   ]
  },
  {
   "cell_type": "code",
   "execution_count": null,
   "metadata": {},
   "outputs": [],
   "source": [
    "#para conocer la sintaxis de todos los campos que puedo query o tambien en las páginas:\n",
    "#http://voparis-tap-planeto.obspm.fr/__system__/dc_tables/show/tableinfo/exoplanet.epn_core\n",
    "#http://vespa.obspm.fr/planetary/data/display/?resource_id=ivo://vopdc.obspm/luth/exoplanet/epn&resource_type=epn&query_conditions=\n",
    "\n",
    "query=\"SELECT column_name FROM TAP_SCHEMA.columns where table_name = 'exoplanet.epn_core'\"     "
   ]
  },
  {
   "cell_type": "code",
   "execution_count": null,
   "metadata": {},
   "outputs": [],
   "source": [
    "resultsfields = service.search(query)    #que me devuelva los resultados en un array llamado resultsfields con todos los datos accesiles de la exoplanet.eu"
   ]
  },
  {
   "cell_type": "code",
   "execution_count": null,
   "metadata": {},
   "outputs": [],
   "source": [
    "print(service.maxrec)   #para saber el máximo numero de resultados que pueden ser buscados o traídos de una sola vez"
   ]
  },
  {
   "cell_type": "code",
   "execution_count": 6,
   "metadata": {},
   "outputs": [
    {
     "name": "stdout",
     "output_type": "stream",
     "text": [
      "('granule_uid', 'granule_gid', 'obs_id', 'dataproduct_type', 'target_name', 'target_class', 'time_min', 'time_max', 'time_sampling_step_min', 'time_sampling_step_max', 'time_exp_min', 'time_exp_max', 'spectral_range_min', 'spectral_range_max', 'spectral_sampling_step_min', 'spectral_sampling_step_max', 'spectral_resolution_min', 'spectral_resolution_max', 'c1min', 'c1max', 'c2min', 'c2max', 'c3min', 'c3max', 's_region', 'c1_resol_min', 'c1_resol_max', 'c2_resol_min', 'c2_resol_max', 'c3_resol_min', 'c3_resol_max', 'spatial_frame_type', 'incidence_min', 'incidence_max', 'emergence_min', 'emergence_max', 'phase_min', 'phase_max', 'instrument_host_name', 'instrument_name', 'measurement_type', 'processing_level', 'creation_date', 'modification_date', 'release_date', 'service_title', 'time_scale', 'publisher', 'bib_reference', 'target_region', 'species', 'detection_type', 'publication_status', 'mass', 'mass_error_min', 'mass_error_max', 'radius', 'radius_error_min', 'radius_error_max', 'semi_major_axis', 'semi_major_axis_error_min', 'semi_major_axis_error_max', 'period', 'period_error_min', 'period_error_max', 'eccentricity', 'eccentricity_error_min', 'eccentricity_error_max', 'periastron', 'periastron_error_min', 'periastron_error_max', 'tzero_tr', 'tzero_tr_error_min', 'tzero_tr_error_max', 'tzero_vr', 'tzero_vr_error_min', 'tzero_vr_error_max', 't_peri', 't_peri_error_min', 't_peri_error_max', 't_conj', 't_conj_error_min', 't_conj_error_max', 'inclination', 'inclination_error_min', 'inclination_error_max', 'tzero_tr_sec', 'tzero_tr_sec_error_min', 'tzero_tr_sec_error_max', 'lambda_angle', 'lambda_angle_error_min', 'lambda_angle_error_max', 'discovered', 'updated', 'remarks', 'other_web', 'angular_distance', 'temp_calculated', 'temp_measured', 'hot_point_lon', 'log_g', 'albedo', 'albedo_error_min', 'albedo_error_max', 'mass_detection_type', 'radius_detection_type', 'mass_sin_i', 'mass_sin_i_error_min', 'mass_sin_i_error_max', 'impact_parameter', 'impact_parameter_error_min', 'impact_parameter_error_max', 'k', 'k_error_min', 'k_error_max', 'alt_target_name', 'star_name', 'star_distance', 'star_distance_error_min', 'star_distance_error_max', 'star_spec_type', 'mag_v', 'mag_i', 'mag_j', 'mag_h', 'mag_k', 'star_metallicity', 'star_mass', 'star_radius', 'star_age', 'star_teff', 'magnetic_field', 'detected_disc', 'ra', 'dec')\n"
     ]
    }
   ],
   "source": [
    "print(results.fieldnames)    #para ver los nombres de los campos(columnas) de mi array results\n"
   ]
  },
  {
   "cell_type": "code",
   "execution_count": null,
   "metadata": {},
   "outputs": [],
   "source": [
    "#podemos hacer querys asíncronos cuando son muy largos para ir haciendo otra cosa mientras\n",
    "\n",
    "#por ejemplo si quisieramos hacer el siguiente:\n",
    "#query = \"SELECT * FROM exoplanet.epn_core WHERE semi_major_axis < 5\"                \n",
    "\n",
    "#acá tengo la duda de si eso va comentado o no porque donde defino quien es query si no ¿o como es estooooooooooo?\n",
    "\n",
    "\n",
    "\n",
    "#hacemos esto:\n",
    "service.submit_job(query)"
   ]
  },
  {
   "cell_type": "code",
   "execution_count": null,
   "metadata": {},
   "outputs": [],
   "source": [
    "#pero para empezarl a correr escribimos:\n",
    "job.run()"
   ]
  },
  {
   "cell_type": "code",
   "execution_count": null,
   "metadata": {},
   "outputs": [],
   "source": [
    "#para saber si todavia sigue corriendo o ya terminó hacemos:\n",
    "print(job.phase)"
   ]
  },
  {
   "cell_type": "code",
   "execution_count": null,
   "metadata": {},
   "outputs": [],
   "source": [
    "#podemos ver\n",
    "job.url"
   ]
  },
  {
   "cell_type": "code",
   "execution_count": null,
   "metadata": {},
   "outputs": [],
   "source": [
    "#para ver o recuperar mis resultados despues en otro momento:\n",
    "job = pyvo.dal.tap.AsyncTAPJob(job.url)\n"
   ]
  },
  {
   "cell_type": "code",
   "execution_count": null,
   "metadata": {},
   "outputs": [],
   "source": [
    "#los resultados pueden ser traidos mediante:\n",
    "results=job.fetch_result()    "
   ]
  },
  {
   "cell_type": "code",
   "execution_count": null,
   "metadata": {},
   "outputs": [],
   "source": []
  }
 ],
 "metadata": {
  "kernelspec": {
   "display_name": "Python 3",
   "language": "python",
   "name": "python3"
  },
  "language_info": {
   "codemirror_mode": {
    "name": "ipython",
    "version": 3
   },
   "file_extension": ".py",
   "mimetype": "text/x-python",
   "name": "python",
   "nbconvert_exporter": "python",
   "pygments_lexer": "ipython3",
   "version": "3.8.3"
  }
 },
 "nbformat": 4,
 "nbformat_minor": 4
}
